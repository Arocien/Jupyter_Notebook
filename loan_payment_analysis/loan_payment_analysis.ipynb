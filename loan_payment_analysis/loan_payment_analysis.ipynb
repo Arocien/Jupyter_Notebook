{
 "cells": [
  {
   "cell_type": "markdown",
   "id": "9518ccba",
   "metadata": {},
   "source": [
    "# FIT 1043 Assignment 2 \n",
    "## Philip Ooi | 32495978\n",
    "### Tutors: Chris Yun, Jesmin Nahar, Saher Manasee\n",
    "### Due: Wednesday 22nd September 2021 - 11:59 pm [Extension given]\n"
   ]
  },
  {
   "cell_type": "markdown",
   "id": "7e3de1f9",
   "metadata": {},
   "source": [
    "***"
   ]
  },
  {
   "cell_type": "markdown",
   "id": "ddff17d2",
   "metadata": {},
   "source": [
    "### Importing necessary libraries"
   ]
  },
  {
   "cell_type": "code",
   "execution_count": 4,
   "id": "7e4b9cef",
   "metadata": {},
   "outputs": [],
   "source": [
    "import pandas as pd #used for our tables\n",
    "import matplotlib.pylab as plt #graphing\n",
    "%matplotlib inline\n",
    "import numpy as np #used for calculations and certain charts such as pie charts"
   ]
  },
  {
   "cell_type": "markdown",
   "id": "0ed5f329",
   "metadata": {},
   "source": [
    "***\n",
    "## Question 1"
   ]
  },
  {
   "cell_type": "markdown",
   "id": "99bfbf93",
   "metadata": {},
   "source": [
    "### Introduction\n",
    "This question aims to predict whether a customer of an investor will be likely to pay back their loans in full. This question uses various machine learning techniques such as supervised learning, Decision trees and Random Forest to attempt to predict whether the individual will pay back in full based(<strong>denoted with 1 or 0</strong>) based on the various features unique to each individual such as fico."
   ]
  },
  {
   "cell_type": "markdown",
   "id": "23e7e345",
   "metadata": {},
   "source": [
    "***"
   ]
  },
  {
   "cell_type": "markdown",
   "id": "598157e5",
   "metadata": {},
   "source": [
    "### Extracting CSV files\n",
    "We need to extract the files using their commars as the delimiter, thus creating rows and columns using \\n and , as the splits"
   ]
  },
  {
   "cell_type": "code",
   "execution_count": 5,
   "id": "1bba472f",
   "metadata": {},
   "outputs": [],
   "source": [
    "df_loan_data = pd.read_csv(\"loan_payment_data/loan_data.csv\")"
   ]
  },
  {
   "cell_type": "code",
   "execution_count": 6,
   "id": "6c59a706",
   "metadata": {},
   "outputs": [
    {
     "data": {
      "text/html": [
       "<div>\n",
       "<style scoped>\n",
       "    .dataframe tbody tr th:only-of-type {\n",
       "        vertical-align: middle;\n",
       "    }\n",
       "\n",
       "    .dataframe tbody tr th {\n",
       "        vertical-align: top;\n",
       "    }\n",
       "\n",
       "    .dataframe thead th {\n",
       "        text-align: right;\n",
       "    }\n",
       "</style>\n",
       "<table border=\"1\" class=\"dataframe\">\n",
       "  <thead>\n",
       "    <tr style=\"text-align: right;\">\n",
       "      <th></th>\n",
       "      <th>credit.policy</th>\n",
       "      <th>int.rate</th>\n",
       "      <th>installment</th>\n",
       "      <th>log.annual.inc</th>\n",
       "      <th>dti</th>\n",
       "      <th>fico</th>\n",
       "      <th>days.with.cr.line</th>\n",
       "      <th>revol.bal</th>\n",
       "      <th>revol.util</th>\n",
       "      <th>inq.last.6mths</th>\n",
       "      <th>delinq.2yrs</th>\n",
       "      <th>pub.rec</th>\n",
       "      <th>not.fully.paid</th>\n",
       "    </tr>\n",
       "  </thead>\n",
       "  <tbody>\n",
       "    <tr>\n",
       "      <th>0</th>\n",
       "      <td>1</td>\n",
       "      <td>0.1189</td>\n",
       "      <td>829.10</td>\n",
       "      <td>11.350407</td>\n",
       "      <td>19.48</td>\n",
       "      <td>737</td>\n",
       "      <td>5639.958333</td>\n",
       "      <td>28854</td>\n",
       "      <td>52.1</td>\n",
       "      <td>0</td>\n",
       "      <td>0</td>\n",
       "      <td>0</td>\n",
       "      <td>0</td>\n",
       "    </tr>\n",
       "    <tr>\n",
       "      <th>1</th>\n",
       "      <td>1</td>\n",
       "      <td>0.1071</td>\n",
       "      <td>228.22</td>\n",
       "      <td>11.082143</td>\n",
       "      <td>14.29</td>\n",
       "      <td>707</td>\n",
       "      <td>2760.000000</td>\n",
       "      <td>33623</td>\n",
       "      <td>76.7</td>\n",
       "      <td>0</td>\n",
       "      <td>0</td>\n",
       "      <td>0</td>\n",
       "      <td>0</td>\n",
       "    </tr>\n",
       "    <tr>\n",
       "      <th>2</th>\n",
       "      <td>1</td>\n",
       "      <td>0.1357</td>\n",
       "      <td>366.86</td>\n",
       "      <td>10.373491</td>\n",
       "      <td>11.63</td>\n",
       "      <td>682</td>\n",
       "      <td>4710.000000</td>\n",
       "      <td>3511</td>\n",
       "      <td>25.6</td>\n",
       "      <td>1</td>\n",
       "      <td>0</td>\n",
       "      <td>0</td>\n",
       "      <td>0</td>\n",
       "    </tr>\n",
       "    <tr>\n",
       "      <th>3</th>\n",
       "      <td>1</td>\n",
       "      <td>0.1008</td>\n",
       "      <td>162.34</td>\n",
       "      <td>11.350407</td>\n",
       "      <td>8.10</td>\n",
       "      <td>712</td>\n",
       "      <td>2699.958333</td>\n",
       "      <td>33667</td>\n",
       "      <td>73.2</td>\n",
       "      <td>1</td>\n",
       "      <td>0</td>\n",
       "      <td>0</td>\n",
       "      <td>0</td>\n",
       "    </tr>\n",
       "    <tr>\n",
       "      <th>4</th>\n",
       "      <td>1</td>\n",
       "      <td>0.1426</td>\n",
       "      <td>102.92</td>\n",
       "      <td>11.299732</td>\n",
       "      <td>14.97</td>\n",
       "      <td>667</td>\n",
       "      <td>4066.000000</td>\n",
       "      <td>4740</td>\n",
       "      <td>39.5</td>\n",
       "      <td>0</td>\n",
       "      <td>1</td>\n",
       "      <td>0</td>\n",
       "      <td>0</td>\n",
       "    </tr>\n",
       "  </tbody>\n",
       "</table>\n",
       "</div>"
      ],
      "text/plain": [
       "   credit.policy  int.rate  installment  log.annual.inc    dti  fico  \\\n",
       "0              1    0.1189       829.10       11.350407  19.48   737   \n",
       "1              1    0.1071       228.22       11.082143  14.29   707   \n",
       "2              1    0.1357       366.86       10.373491  11.63   682   \n",
       "3              1    0.1008       162.34       11.350407   8.10   712   \n",
       "4              1    0.1426       102.92       11.299732  14.97   667   \n",
       "\n",
       "   days.with.cr.line  revol.bal  revol.util  inq.last.6mths  delinq.2yrs  \\\n",
       "0        5639.958333      28854        52.1               0            0   \n",
       "1        2760.000000      33623        76.7               0            0   \n",
       "2        4710.000000       3511        25.6               1            0   \n",
       "3        2699.958333      33667        73.2               1            0   \n",
       "4        4066.000000       4740        39.5               0            1   \n",
       "\n",
       "   pub.rec  not.fully.paid  \n",
       "0        0               0  \n",
       "1        0               0  \n",
       "2        0               0  \n",
       "3        0               0  \n",
       "4        0               0  "
      ]
     },
     "execution_count": 6,
     "metadata": {},
     "output_type": "execute_result"
    }
   ],
   "source": [
    "df_loan_data.head()"
   ]
  },
  {
   "cell_type": "code",
   "execution_count": 7,
   "id": "1ec45f24",
   "metadata": {},
   "outputs": [
    {
     "data": {
      "text/html": [
       "<div>\n",
       "<style scoped>\n",
       "    .dataframe tbody tr th:only-of-type {\n",
       "        vertical-align: middle;\n",
       "    }\n",
       "\n",
       "    .dataframe tbody tr th {\n",
       "        vertical-align: top;\n",
       "    }\n",
       "\n",
       "    .dataframe thead th {\n",
       "        text-align: right;\n",
       "    }\n",
       "</style>\n",
       "<table border=\"1\" class=\"dataframe\">\n",
       "  <thead>\n",
       "    <tr style=\"text-align: right;\">\n",
       "      <th></th>\n",
       "      <th>credit.policy</th>\n",
       "      <th>int.rate</th>\n",
       "      <th>installment</th>\n",
       "      <th>log.annual.inc</th>\n",
       "      <th>dti</th>\n",
       "      <th>fico</th>\n",
       "      <th>days.with.cr.line</th>\n",
       "      <th>revol.bal</th>\n",
       "      <th>revol.util</th>\n",
       "      <th>inq.last.6mths</th>\n",
       "      <th>delinq.2yrs</th>\n",
       "      <th>pub.rec</th>\n",
       "      <th>not.fully.paid</th>\n",
       "    </tr>\n",
       "  </thead>\n",
       "  <tbody>\n",
       "    <tr>\n",
       "      <th>9573</th>\n",
       "      <td>0</td>\n",
       "      <td>0.1461</td>\n",
       "      <td>344.76</td>\n",
       "      <td>12.180755</td>\n",
       "      <td>10.39</td>\n",
       "      <td>672</td>\n",
       "      <td>10474.000000</td>\n",
       "      <td>215372</td>\n",
       "      <td>82.1</td>\n",
       "      <td>2</td>\n",
       "      <td>0</td>\n",
       "      <td>0</td>\n",
       "      <td>1</td>\n",
       "    </tr>\n",
       "    <tr>\n",
       "      <th>9574</th>\n",
       "      <td>0</td>\n",
       "      <td>0.1253</td>\n",
       "      <td>257.70</td>\n",
       "      <td>11.141862</td>\n",
       "      <td>0.21</td>\n",
       "      <td>722</td>\n",
       "      <td>4380.000000</td>\n",
       "      <td>184</td>\n",
       "      <td>1.1</td>\n",
       "      <td>5</td>\n",
       "      <td>0</td>\n",
       "      <td>0</td>\n",
       "      <td>1</td>\n",
       "    </tr>\n",
       "    <tr>\n",
       "      <th>9575</th>\n",
       "      <td>0</td>\n",
       "      <td>0.1071</td>\n",
       "      <td>97.81</td>\n",
       "      <td>10.596635</td>\n",
       "      <td>13.09</td>\n",
       "      <td>687</td>\n",
       "      <td>3450.041667</td>\n",
       "      <td>10036</td>\n",
       "      <td>82.9</td>\n",
       "      <td>8</td>\n",
       "      <td>0</td>\n",
       "      <td>0</td>\n",
       "      <td>1</td>\n",
       "    </tr>\n",
       "    <tr>\n",
       "      <th>9576</th>\n",
       "      <td>0</td>\n",
       "      <td>0.1600</td>\n",
       "      <td>351.58</td>\n",
       "      <td>10.819778</td>\n",
       "      <td>19.18</td>\n",
       "      <td>692</td>\n",
       "      <td>1800.000000</td>\n",
       "      <td>0</td>\n",
       "      <td>3.2</td>\n",
       "      <td>5</td>\n",
       "      <td>0</td>\n",
       "      <td>0</td>\n",
       "      <td>1</td>\n",
       "    </tr>\n",
       "    <tr>\n",
       "      <th>9577</th>\n",
       "      <td>0</td>\n",
       "      <td>0.1392</td>\n",
       "      <td>853.43</td>\n",
       "      <td>11.264464</td>\n",
       "      <td>16.28</td>\n",
       "      <td>732</td>\n",
       "      <td>4740.000000</td>\n",
       "      <td>37879</td>\n",
       "      <td>57.0</td>\n",
       "      <td>6</td>\n",
       "      <td>0</td>\n",
       "      <td>0</td>\n",
       "      <td>1</td>\n",
       "    </tr>\n",
       "  </tbody>\n",
       "</table>\n",
       "</div>"
      ],
      "text/plain": [
       "      credit.policy  int.rate  installment  log.annual.inc    dti  fico  \\\n",
       "9573              0    0.1461       344.76       12.180755  10.39   672   \n",
       "9574              0    0.1253       257.70       11.141862   0.21   722   \n",
       "9575              0    0.1071        97.81       10.596635  13.09   687   \n",
       "9576              0    0.1600       351.58       10.819778  19.18   692   \n",
       "9577              0    0.1392       853.43       11.264464  16.28   732   \n",
       "\n",
       "      days.with.cr.line  revol.bal  revol.util  inq.last.6mths  delinq.2yrs  \\\n",
       "9573       10474.000000     215372        82.1               2            0   \n",
       "9574        4380.000000        184         1.1               5            0   \n",
       "9575        3450.041667      10036        82.9               8            0   \n",
       "9576        1800.000000          0         3.2               5            0   \n",
       "9577        4740.000000      37879        57.0               6            0   \n",
       "\n",
       "      pub.rec  not.fully.paid  \n",
       "9573        0               1  \n",
       "9574        0               1  \n",
       "9575        0               1  \n",
       "9576        0               1  \n",
       "9577        0               1  "
      ]
     },
     "execution_count": 7,
     "metadata": {},
     "output_type": "execute_result"
    }
   ],
   "source": [
    "df_loan_data.tail()"
   ]
  },
  {
   "cell_type": "code",
   "execution_count": 8,
   "id": "fd661277",
   "metadata": {},
   "outputs": [
    {
     "data": {
      "text/html": [
       "<div>\n",
       "<style scoped>\n",
       "    .dataframe tbody tr th:only-of-type {\n",
       "        vertical-align: middle;\n",
       "    }\n",
       "\n",
       "    .dataframe tbody tr th {\n",
       "        vertical-align: top;\n",
       "    }\n",
       "\n",
       "    .dataframe thead th {\n",
       "        text-align: right;\n",
       "    }\n",
       "</style>\n",
       "<table border=\"1\" class=\"dataframe\">\n",
       "  <thead>\n",
       "    <tr style=\"text-align: right;\">\n",
       "      <th></th>\n",
       "      <th>credit.policy</th>\n",
       "      <th>int.rate</th>\n",
       "      <th>installment</th>\n",
       "      <th>log.annual.inc</th>\n",
       "      <th>dti</th>\n",
       "      <th>fico</th>\n",
       "      <th>days.with.cr.line</th>\n",
       "      <th>revol.bal</th>\n",
       "      <th>revol.util</th>\n",
       "      <th>inq.last.6mths</th>\n",
       "      <th>delinq.2yrs</th>\n",
       "      <th>pub.rec</th>\n",
       "      <th>not.fully.paid</th>\n",
       "    </tr>\n",
       "  </thead>\n",
       "  <tbody>\n",
       "    <tr>\n",
       "      <th>2308</th>\n",
       "      <td>1</td>\n",
       "      <td>0.1379</td>\n",
       "      <td>170.38</td>\n",
       "      <td>11.350407</td>\n",
       "      <td>0.42</td>\n",
       "      <td>737</td>\n",
       "      <td>1140.0</td>\n",
       "      <td>890</td>\n",
       "      <td>6.4</td>\n",
       "      <td>1</td>\n",
       "      <td>0</td>\n",
       "      <td>0</td>\n",
       "      <td>0</td>\n",
       "    </tr>\n",
       "    <tr>\n",
       "      <th>2841</th>\n",
       "      <td>1</td>\n",
       "      <td>0.1347</td>\n",
       "      <td>407.08</td>\n",
       "      <td>11.289782</td>\n",
       "      <td>23.83</td>\n",
       "      <td>692</td>\n",
       "      <td>6390.0</td>\n",
       "      <td>8762</td>\n",
       "      <td>31.9</td>\n",
       "      <td>3</td>\n",
       "      <td>0</td>\n",
       "      <td>0</td>\n",
       "      <td>0</td>\n",
       "    </tr>\n",
       "    <tr>\n",
       "      <th>5309</th>\n",
       "      <td>1</td>\n",
       "      <td>0.1531</td>\n",
       "      <td>870.39</td>\n",
       "      <td>11.608236</td>\n",
       "      <td>2.69</td>\n",
       "      <td>757</td>\n",
       "      <td>8130.0</td>\n",
       "      <td>11437</td>\n",
       "      <td>16.3</td>\n",
       "      <td>3</td>\n",
       "      <td>0</td>\n",
       "      <td>0</td>\n",
       "      <td>0</td>\n",
       "    </tr>\n",
       "  </tbody>\n",
       "</table>\n",
       "</div>"
      ],
      "text/plain": [
       "      credit.policy  int.rate  installment  log.annual.inc    dti  fico  \\\n",
       "2308              1    0.1379       170.38       11.350407   0.42   737   \n",
       "2841              1    0.1347       407.08       11.289782  23.83   692   \n",
       "5309              1    0.1531       870.39       11.608236   2.69   757   \n",
       "\n",
       "      days.with.cr.line  revol.bal  revol.util  inq.last.6mths  delinq.2yrs  \\\n",
       "2308             1140.0        890         6.4               1            0   \n",
       "2841             6390.0       8762        31.9               3            0   \n",
       "5309             8130.0      11437        16.3               3            0   \n",
       "\n",
       "      pub.rec  not.fully.paid  \n",
       "2308        0               0  \n",
       "2841        0               0  \n",
       "5309        0               0  "
      ]
     },
     "execution_count": 8,
     "metadata": {},
     "output_type": "execute_result"
    }
   ],
   "source": [
    "df_loan_data.sample(3)"
   ]
  },
  {
   "cell_type": "markdown",
   "id": "df03b0ba",
   "metadata": {},
   "source": [
    "***\n",
    "### Describing data"
   ]
  },
  {
   "cell_type": "code",
   "execution_count": 9,
   "id": "f759b2c9",
   "metadata": {},
   "outputs": [
    {
     "data": {
      "text/html": [
       "<div>\n",
       "<style scoped>\n",
       "    .dataframe tbody tr th:only-of-type {\n",
       "        vertical-align: middle;\n",
       "    }\n",
       "\n",
       "    .dataframe tbody tr th {\n",
       "        vertical-align: top;\n",
       "    }\n",
       "\n",
       "    .dataframe thead th {\n",
       "        text-align: right;\n",
       "    }\n",
       "</style>\n",
       "<table border=\"1\" class=\"dataframe\">\n",
       "  <thead>\n",
       "    <tr style=\"text-align: right;\">\n",
       "      <th></th>\n",
       "      <th>credit.policy</th>\n",
       "      <th>int.rate</th>\n",
       "      <th>installment</th>\n",
       "      <th>log.annual.inc</th>\n",
       "      <th>dti</th>\n",
       "      <th>fico</th>\n",
       "      <th>days.with.cr.line</th>\n",
       "      <th>revol.bal</th>\n",
       "      <th>revol.util</th>\n",
       "      <th>inq.last.6mths</th>\n",
       "      <th>delinq.2yrs</th>\n",
       "      <th>pub.rec</th>\n",
       "      <th>not.fully.paid</th>\n",
       "    </tr>\n",
       "  </thead>\n",
       "  <tbody>\n",
       "    <tr>\n",
       "      <th>count</th>\n",
       "      <td>9578.000000</td>\n",
       "      <td>9578.000000</td>\n",
       "      <td>9578.000000</td>\n",
       "      <td>9578.000000</td>\n",
       "      <td>9578.000000</td>\n",
       "      <td>9578.000000</td>\n",
       "      <td>9578.000000</td>\n",
       "      <td>9.578000e+03</td>\n",
       "      <td>9578.000000</td>\n",
       "      <td>9578.000000</td>\n",
       "      <td>9578.000000</td>\n",
       "      <td>9578.000000</td>\n",
       "      <td>9578.000000</td>\n",
       "    </tr>\n",
       "    <tr>\n",
       "      <th>mean</th>\n",
       "      <td>0.804970</td>\n",
       "      <td>0.122640</td>\n",
       "      <td>319.089413</td>\n",
       "      <td>10.932117</td>\n",
       "      <td>12.606679</td>\n",
       "      <td>710.846314</td>\n",
       "      <td>4560.767197</td>\n",
       "      <td>1.691396e+04</td>\n",
       "      <td>46.799236</td>\n",
       "      <td>1.577469</td>\n",
       "      <td>0.163708</td>\n",
       "      <td>0.062122</td>\n",
       "      <td>0.160054</td>\n",
       "    </tr>\n",
       "    <tr>\n",
       "      <th>std</th>\n",
       "      <td>0.396245</td>\n",
       "      <td>0.026847</td>\n",
       "      <td>207.071301</td>\n",
       "      <td>0.614813</td>\n",
       "      <td>6.883970</td>\n",
       "      <td>37.970537</td>\n",
       "      <td>2496.930377</td>\n",
       "      <td>3.375619e+04</td>\n",
       "      <td>29.014417</td>\n",
       "      <td>2.200245</td>\n",
       "      <td>0.546215</td>\n",
       "      <td>0.262126</td>\n",
       "      <td>0.366676</td>\n",
       "    </tr>\n",
       "    <tr>\n",
       "      <th>min</th>\n",
       "      <td>0.000000</td>\n",
       "      <td>0.060000</td>\n",
       "      <td>15.670000</td>\n",
       "      <td>7.547502</td>\n",
       "      <td>0.000000</td>\n",
       "      <td>612.000000</td>\n",
       "      <td>178.958333</td>\n",
       "      <td>0.000000e+00</td>\n",
       "      <td>0.000000</td>\n",
       "      <td>0.000000</td>\n",
       "      <td>0.000000</td>\n",
       "      <td>0.000000</td>\n",
       "      <td>0.000000</td>\n",
       "    </tr>\n",
       "    <tr>\n",
       "      <th>25%</th>\n",
       "      <td>1.000000</td>\n",
       "      <td>0.103900</td>\n",
       "      <td>163.770000</td>\n",
       "      <td>10.558414</td>\n",
       "      <td>7.212500</td>\n",
       "      <td>682.000000</td>\n",
       "      <td>2820.000000</td>\n",
       "      <td>3.187000e+03</td>\n",
       "      <td>22.600000</td>\n",
       "      <td>0.000000</td>\n",
       "      <td>0.000000</td>\n",
       "      <td>0.000000</td>\n",
       "      <td>0.000000</td>\n",
       "    </tr>\n",
       "    <tr>\n",
       "      <th>50%</th>\n",
       "      <td>1.000000</td>\n",
       "      <td>0.122100</td>\n",
       "      <td>268.950000</td>\n",
       "      <td>10.928884</td>\n",
       "      <td>12.665000</td>\n",
       "      <td>707.000000</td>\n",
       "      <td>4139.958333</td>\n",
       "      <td>8.596000e+03</td>\n",
       "      <td>46.300000</td>\n",
       "      <td>1.000000</td>\n",
       "      <td>0.000000</td>\n",
       "      <td>0.000000</td>\n",
       "      <td>0.000000</td>\n",
       "    </tr>\n",
       "    <tr>\n",
       "      <th>75%</th>\n",
       "      <td>1.000000</td>\n",
       "      <td>0.140700</td>\n",
       "      <td>432.762500</td>\n",
       "      <td>11.291293</td>\n",
       "      <td>17.950000</td>\n",
       "      <td>737.000000</td>\n",
       "      <td>5730.000000</td>\n",
       "      <td>1.824950e+04</td>\n",
       "      <td>70.900000</td>\n",
       "      <td>2.000000</td>\n",
       "      <td>0.000000</td>\n",
       "      <td>0.000000</td>\n",
       "      <td>0.000000</td>\n",
       "    </tr>\n",
       "    <tr>\n",
       "      <th>max</th>\n",
       "      <td>1.000000</td>\n",
       "      <td>0.216400</td>\n",
       "      <td>940.140000</td>\n",
       "      <td>14.528354</td>\n",
       "      <td>29.960000</td>\n",
       "      <td>827.000000</td>\n",
       "      <td>17639.958330</td>\n",
       "      <td>1.207359e+06</td>\n",
       "      <td>119.000000</td>\n",
       "      <td>33.000000</td>\n",
       "      <td>13.000000</td>\n",
       "      <td>5.000000</td>\n",
       "      <td>1.000000</td>\n",
       "    </tr>\n",
       "  </tbody>\n",
       "</table>\n",
       "</div>"
      ],
      "text/plain": [
       "       credit.policy     int.rate  installment  log.annual.inc          dti  \\\n",
       "count    9578.000000  9578.000000  9578.000000     9578.000000  9578.000000   \n",
       "mean        0.804970     0.122640   319.089413       10.932117    12.606679   \n",
       "std         0.396245     0.026847   207.071301        0.614813     6.883970   \n",
       "min         0.000000     0.060000    15.670000        7.547502     0.000000   \n",
       "25%         1.000000     0.103900   163.770000       10.558414     7.212500   \n",
       "50%         1.000000     0.122100   268.950000       10.928884    12.665000   \n",
       "75%         1.000000     0.140700   432.762500       11.291293    17.950000   \n",
       "max         1.000000     0.216400   940.140000       14.528354    29.960000   \n",
       "\n",
       "              fico  days.with.cr.line     revol.bal   revol.util  \\\n",
       "count  9578.000000        9578.000000  9.578000e+03  9578.000000   \n",
       "mean    710.846314        4560.767197  1.691396e+04    46.799236   \n",
       "std      37.970537        2496.930377  3.375619e+04    29.014417   \n",
       "min     612.000000         178.958333  0.000000e+00     0.000000   \n",
       "25%     682.000000        2820.000000  3.187000e+03    22.600000   \n",
       "50%     707.000000        4139.958333  8.596000e+03    46.300000   \n",
       "75%     737.000000        5730.000000  1.824950e+04    70.900000   \n",
       "max     827.000000       17639.958330  1.207359e+06   119.000000   \n",
       "\n",
       "       inq.last.6mths  delinq.2yrs      pub.rec  not.fully.paid  \n",
       "count     9578.000000  9578.000000  9578.000000     9578.000000  \n",
       "mean         1.577469     0.163708     0.062122        0.160054  \n",
       "std          2.200245     0.546215     0.262126        0.366676  \n",
       "min          0.000000     0.000000     0.000000        0.000000  \n",
       "25%          0.000000     0.000000     0.000000        0.000000  \n",
       "50%          1.000000     0.000000     0.000000        0.000000  \n",
       "75%          2.000000     0.000000     0.000000        0.000000  \n",
       "max         33.000000    13.000000     5.000000        1.000000  "
      ]
     },
     "execution_count": 9,
     "metadata": {},
     "output_type": "execute_result"
    }
   ],
   "source": [
    "df_loan_data.describe()"
   ]
  },
  {
   "cell_type": "markdown",
   "id": "2fe86e90",
   "metadata": {},
   "source": [
    "It can be seen in the data thta the highest and lowest fico are 827 and 612. This shows a narrow range of values while the mean of not fully paid is 0.16 which shows that more people have paid back as the mean is a lower number. Public records mean is also quite low with 0.062 showing that many members in this data have not had a bad record. "
   ]
  },
  {
   "cell_type": "markdown",
   "id": "fa68f4fd",
   "metadata": {},
   "source": [
    "In order to make the two histograms we need to split the data by their not.fully.paid category, whether it is paid (1) or not paid(2)"
   ]
  },
  {
   "cell_type": "code",
   "execution_count": 10,
   "id": "a10ba329",
   "metadata": {},
   "outputs": [
    {
     "data": {
      "text/html": [
       "<div>\n",
       "<style scoped>\n",
       "    .dataframe tbody tr th:only-of-type {\n",
       "        vertical-align: middle;\n",
       "    }\n",
       "\n",
       "    .dataframe tbody tr th {\n",
       "        vertical-align: top;\n",
       "    }\n",
       "\n",
       "    .dataframe thead th {\n",
       "        text-align: right;\n",
       "    }\n",
       "</style>\n",
       "<table border=\"1\" class=\"dataframe\">\n",
       "  <thead>\n",
       "    <tr style=\"text-align: right;\">\n",
       "      <th></th>\n",
       "      <th>fico</th>\n",
       "      <th>not_fully_paid</th>\n",
       "    </tr>\n",
       "  </thead>\n",
       "  <tbody>\n",
       "    <tr>\n",
       "      <th>0</th>\n",
       "      <td>737</td>\n",
       "      <td>0</td>\n",
       "    </tr>\n",
       "    <tr>\n",
       "      <th>1</th>\n",
       "      <td>707</td>\n",
       "      <td>0</td>\n",
       "    </tr>\n",
       "    <tr>\n",
       "      <th>2</th>\n",
       "      <td>682</td>\n",
       "      <td>0</td>\n",
       "    </tr>\n",
       "    <tr>\n",
       "      <th>3</th>\n",
       "      <td>712</td>\n",
       "      <td>0</td>\n",
       "    </tr>\n",
       "    <tr>\n",
       "      <th>4</th>\n",
       "      <td>667</td>\n",
       "      <td>0</td>\n",
       "    </tr>\n",
       "    <tr>\n",
       "      <th>...</th>\n",
       "      <td>...</td>\n",
       "      <td>...</td>\n",
       "    </tr>\n",
       "    <tr>\n",
       "      <th>9573</th>\n",
       "      <td>672</td>\n",
       "      <td>1</td>\n",
       "    </tr>\n",
       "    <tr>\n",
       "      <th>9574</th>\n",
       "      <td>722</td>\n",
       "      <td>1</td>\n",
       "    </tr>\n",
       "    <tr>\n",
       "      <th>9575</th>\n",
       "      <td>687</td>\n",
       "      <td>1</td>\n",
       "    </tr>\n",
       "    <tr>\n",
       "      <th>9576</th>\n",
       "      <td>692</td>\n",
       "      <td>1</td>\n",
       "    </tr>\n",
       "    <tr>\n",
       "      <th>9577</th>\n",
       "      <td>732</td>\n",
       "      <td>1</td>\n",
       "    </tr>\n",
       "  </tbody>\n",
       "</table>\n",
       "<p>9578 rows × 2 columns</p>\n",
       "</div>"
      ],
      "text/plain": [
       "      fico  not_fully_paid\n",
       "0      737               0\n",
       "1      707               0\n",
       "2      682               0\n",
       "3      712               0\n",
       "4      667               0\n",
       "...    ...             ...\n",
       "9573   672               1\n",
       "9574   722               1\n",
       "9575   687               1\n",
       "9576   692               1\n",
       "9577   732               1\n",
       "\n",
       "[9578 rows x 2 columns]"
      ]
     },
     "execution_count": 10,
     "metadata": {},
     "output_type": "execute_result"
    }
   ],
   "source": [
    "hist_fully_paid = df_loan_data.filter(['fico','not.fully.paid'])\n",
    "hist_fully_paid.rename(columns = {\"not.fully.paid\":\"not_fully_paid\"},inplace = True) #making changes to title as the dots\n",
    "#would mess with the plotting later\n",
    "hist_fully_paid"
   ]
  },
  {
   "cell_type": "code",
   "execution_count": 11,
   "id": "f0a4075f",
   "metadata": {},
   "outputs": [
    {
     "data": {
      "text/html": [
       "<div>\n",
       "<style scoped>\n",
       "    .dataframe tbody tr th:only-of-type {\n",
       "        vertical-align: middle;\n",
       "    }\n",
       "\n",
       "    .dataframe tbody tr th {\n",
       "        vertical-align: top;\n",
       "    }\n",
       "\n",
       "    .dataframe thead th {\n",
       "        text-align: right;\n",
       "    }\n",
       "</style>\n",
       "<table border=\"1\" class=\"dataframe\">\n",
       "  <thead>\n",
       "    <tr style=\"text-align: right;\">\n",
       "      <th></th>\n",
       "      <th>fico</th>\n",
       "      <th>not_fully_paid</th>\n",
       "    </tr>\n",
       "  </thead>\n",
       "  <tbody>\n",
       "    <tr>\n",
       "      <th>0</th>\n",
       "      <td>667</td>\n",
       "      <td>1</td>\n",
       "    </tr>\n",
       "    <tr>\n",
       "      <th>1</th>\n",
       "      <td>722</td>\n",
       "      <td>1</td>\n",
       "    </tr>\n",
       "    <tr>\n",
       "      <th>2</th>\n",
       "      <td>682</td>\n",
       "      <td>1</td>\n",
       "    </tr>\n",
       "    <tr>\n",
       "      <th>3</th>\n",
       "      <td>687</td>\n",
       "      <td>1</td>\n",
       "    </tr>\n",
       "    <tr>\n",
       "      <th>4</th>\n",
       "      <td>677</td>\n",
       "      <td>1</td>\n",
       "    </tr>\n",
       "    <tr>\n",
       "      <th>...</th>\n",
       "      <td>...</td>\n",
       "      <td>...</td>\n",
       "    </tr>\n",
       "    <tr>\n",
       "      <th>1528</th>\n",
       "      <td>672</td>\n",
       "      <td>1</td>\n",
       "    </tr>\n",
       "    <tr>\n",
       "      <th>1529</th>\n",
       "      <td>722</td>\n",
       "      <td>1</td>\n",
       "    </tr>\n",
       "    <tr>\n",
       "      <th>1530</th>\n",
       "      <td>687</td>\n",
       "      <td>1</td>\n",
       "    </tr>\n",
       "    <tr>\n",
       "      <th>1531</th>\n",
       "      <td>692</td>\n",
       "      <td>1</td>\n",
       "    </tr>\n",
       "    <tr>\n",
       "      <th>1532</th>\n",
       "      <td>732</td>\n",
       "      <td>1</td>\n",
       "    </tr>\n",
       "  </tbody>\n",
       "</table>\n",
       "<p>1533 rows × 2 columns</p>\n",
       "</div>"
      ],
      "text/plain": [
       "      fico  not_fully_paid\n",
       "0      667               1\n",
       "1      722               1\n",
       "2      682               1\n",
       "3      687               1\n",
       "4      677               1\n",
       "...    ...             ...\n",
       "1528   672               1\n",
       "1529   722               1\n",
       "1530   687               1\n",
       "1531   692               1\n",
       "1532   732               1\n",
       "\n",
       "[1533 rows x 2 columns]"
      ]
     },
     "execution_count": 11,
     "metadata": {},
     "output_type": "execute_result"
    }
   ],
   "source": [
    "boolean_filter = hist_fully_paid.not_fully_paid.isin([1])\n",
    "filtered_df_not_paid = hist_fully_paid[boolean_filter]\n",
    "filtered_df_not_paid.reset_index(drop = True)\n"
   ]
  },
  {
   "cell_type": "code",
   "execution_count": 12,
   "id": "3b2054da",
   "metadata": {},
   "outputs": [
    {
     "data": {
      "text/html": [
       "<div>\n",
       "<style scoped>\n",
       "    .dataframe tbody tr th:only-of-type {\n",
       "        vertical-align: middle;\n",
       "    }\n",
       "\n",
       "    .dataframe tbody tr th {\n",
       "        vertical-align: top;\n",
       "    }\n",
       "\n",
       "    .dataframe thead th {\n",
       "        text-align: right;\n",
       "    }\n",
       "</style>\n",
       "<table border=\"1\" class=\"dataframe\">\n",
       "  <thead>\n",
       "    <tr style=\"text-align: right;\">\n",
       "      <th></th>\n",
       "      <th>fico</th>\n",
       "      <th>not_fully_paid</th>\n",
       "    </tr>\n",
       "  </thead>\n",
       "  <tbody>\n",
       "    <tr>\n",
       "      <th>0</th>\n",
       "      <td>737</td>\n",
       "      <td>0</td>\n",
       "    </tr>\n",
       "    <tr>\n",
       "      <th>1</th>\n",
       "      <td>707</td>\n",
       "      <td>0</td>\n",
       "    </tr>\n",
       "    <tr>\n",
       "      <th>2</th>\n",
       "      <td>682</td>\n",
       "      <td>0</td>\n",
       "    </tr>\n",
       "    <tr>\n",
       "      <th>3</th>\n",
       "      <td>712</td>\n",
       "      <td>0</td>\n",
       "    </tr>\n",
       "    <tr>\n",
       "      <th>4</th>\n",
       "      <td>667</td>\n",
       "      <td>0</td>\n",
       "    </tr>\n",
       "    <tr>\n",
       "      <th>...</th>\n",
       "      <td>...</td>\n",
       "      <td>...</td>\n",
       "    </tr>\n",
       "    <tr>\n",
       "      <th>9561</th>\n",
       "      <td>722</td>\n",
       "      <td>0</td>\n",
       "    </tr>\n",
       "    <tr>\n",
       "      <th>9562</th>\n",
       "      <td>717</td>\n",
       "      <td>0</td>\n",
       "    </tr>\n",
       "    <tr>\n",
       "      <th>9564</th>\n",
       "      <td>687</td>\n",
       "      <td>0</td>\n",
       "    </tr>\n",
       "    <tr>\n",
       "      <th>9567</th>\n",
       "      <td>687</td>\n",
       "      <td>0</td>\n",
       "    </tr>\n",
       "    <tr>\n",
       "      <th>9568</th>\n",
       "      <td>667</td>\n",
       "      <td>0</td>\n",
       "    </tr>\n",
       "  </tbody>\n",
       "</table>\n",
       "<p>8045 rows × 2 columns</p>\n",
       "</div>"
      ],
      "text/plain": [
       "      fico  not_fully_paid\n",
       "0      737               0\n",
       "1      707               0\n",
       "2      682               0\n",
       "3      712               0\n",
       "4      667               0\n",
       "...    ...             ...\n",
       "9561   722               0\n",
       "9562   717               0\n",
       "9564   687               0\n",
       "9567   687               0\n",
       "9568   667               0\n",
       "\n",
       "[8045 rows x 2 columns]"
      ]
     },
     "execution_count": 12,
     "metadata": {},
     "output_type": "execute_result"
    }
   ],
   "source": [
    "boolean_filter = hist_fully_paid.not_fully_paid.isin([0])\n",
    "filtered_df_paid = hist_fully_paid[boolean_filter]\n",
    "filtered_df_paid"
   ]
  },
  {
   "cell_type": "markdown",
   "id": "6fa3d86f",
   "metadata": {},
   "source": [
    "### <strong>Figure 1 </strong>"
   ]
  },
  {
   "cell_type": "code",
   "execution_count": 13,
   "id": "3ea46b3a",
   "metadata": {},
   "outputs": [
    {
     "data": {
      "text/plain": [
       "<AxesSubplot:>"
      ]
     },
     "execution_count": 13,
     "metadata": {},
     "output_type": "execute_result"
    },
    {
     "data": {
      "image/png": "[encoded data removed]",
      "text/plain": [
       "<Figure size 432x288 with 1 Axes>"
      ]
     },
     "metadata": {
      "needs_background": "light"
     },
     "output_type": "display_data"
    }
   ],
   "source": [
    "filtered_df_not_paid['fico'].hist()"
   ]
  },
  {
   "cell_type": "markdown",
   "id": "ec0fbd03",
   "metadata": {},
   "source": [
    "### <strong>Figure 2 </strong>"
   ]
  },
  {
   "cell_type": "code",
   "execution_count": 14,
   "id": "e1093c66",
   "metadata": {},
   "outputs": [
    {
     "data": {
      "text/plain": [
       "<AxesSubplot:>"
      ]
     },
     "execution_count": 14,
     "metadata": {},
     "output_type": "execute_result"
    },
    {
     "data": {
      "image/png": "[encoded data removed]",
      "text/plain": [
       "<Figure size 432x288 with 1 Axes>"
      ]
     },
     "metadata": {
      "needs_background": "light"
     },
     "output_type": "display_data"
    }
   ],
   "source": [
    "filtered_df_paid['fico'].hist()"
   ]
  },
  {
   "cell_type": "markdown",
   "id": "0fc45b1c",
   "metadata": {},
   "source": [
    "## Final side by side histogram"
   ]
  },
  {
   "cell_type": "code",
   "execution_count": 15,
   "id": "a13124da",
   "metadata": {},
   "outputs": [
    {
     "data": {
      "text/plain": [
       "Text(0, 0.5, 'People')"
      ]
     },
     "execution_count": 15,
     "metadata": {},
     "output_type": "execute_result"
    },
    {
     "data": {
      "image/png": "[encoded data removed]",
      "text/plain": [
       "<Figure size 432x288 with 1 Axes>"
      ]
     },
     "metadata": {
      "needs_background": "light"
     },
     "output_type": "display_data"
    }
   ],
   "source": [
    "x1 = filtered_df_paid['fico'] \n",
    "x2 = filtered_df_not_paid['fico'] \n",
    "#the red are people who have paid\n",
    "#the green are the people who have not paid\n",
    "compare_fico = plt.hist((x1,x2), bins = 50,color = ['g','r'])\n",
    "plt.title(\"Comparison of credit score of paid agains unpaid\")\n",
    "plt.xlabel(\"Credit score\")\n",
    "plt.ylabel(\"People\")"
   ]
  },
  {
   "cell_type": "markdown",
   "id": "a1ee392e",
   "metadata": {},
   "source": [
    "### Description \n",
    "This histogram shows the side by side of both types of people who have either paid or not paid. It can be seen from the histogram that the people who have fully paid their loans have a generally higher credit score than those who have not paid their loans. The graph of <strong>figure 1</strong> show a very negative leaning graph which which skews positively. This means that the majority of people who have paid fully have a higher credit score than thoes who do not."
   ]
  },
  {
   "cell_type": "markdown",
   "id": "67383199",
   "metadata": {},
   "source": [
    "### "
   ]
  },
  {
   "cell_type": "code",
   "execution_count": 16,
   "id": "a263eb0b",
   "metadata": {},
   "outputs": [
    {
     "data": {
      "text/plain": [
       "Text(0, 0.5, 'Credit score')"
      ]
     },
     "execution_count": 16,
     "metadata": {},
     "output_type": "execute_result"
    },
    {
     "data": {
      "image/png": "[encoded data removed]",
      "text/plain": [
       "<Figure size 432x288 with 1 Axes>"
      ]
     },
     "metadata": {
      "needs_background": "light"
     },
     "output_type": "display_data"
    }
   ],
   "source": [
    "\n",
    "plt.scatter(x = df_loan_data['int.rate'],y = df_loan_data['fico'], color = 'violet')\n",
    "plt.title(\"Relationship between interest and credit score\")\n",
    "plt.xlabel(\"Interest rate\")\n",
    "plt.ylabel(\"Credit score\")"
   ]
  },
  {
   "cell_type": "markdown",
   "id": "a6858f3d",
   "metadata": {},
   "source": [
    "## Graph description and analysis \n",
    "A scatter plot was chosen to show the relationship between the two different variables, as it could show the general trend of the data with such a large spread of data values. The shape of the scatter plot allows the user to predict the trend and it is from this that we can assume that a higher credit score leads to a lower interest rate."
   ]
  },
  {
   "cell_type": "markdown",
   "id": "90c55437",
   "metadata": {},
   "source": [
    "***\n",
    "## Supervised Learning\n",
    "This section aims to use supervised machine learning to predict whether the user will pay in full based on their credit(fico) score. The data will be split into a 80% training and 20% testing before undertaking machine learning. <br><strong>The label in this section (the dependent variable) is the not.fully.paid.</strong>"
   ]
  },
  {
   "cell_type": "code",
   "execution_count": 17,
   "id": "696188f3",
   "metadata": {},
   "outputs": [],
   "source": [
    "#imports needed for machine learning and training\n",
    "from sklearn.model_selection import train_test_split\n",
    "from sklearn.metrics import confusion_matrix\n",
    "from sklearn.preprocessing import StandardScaler"
   ]
  },
  {
   "cell_type": "markdown",
   "id": "f911f012",
   "metadata": {},
   "source": [
    "Supervised machine learning separates itself from other forms of machine learning through the use of training data sets. Unlike unsupervised machine learning, supervised machine learning makes use of labelled data(data that is classified e.g with a tag or name) to train and analyse before predicting future events. This data that is used to \"teach\" the machine is known as a training dataset. After sufficient training, the system is then able to provide a predicted output for any input given. To check whether the training is sufficient, the data is split into two parts of training and testing data. After training using the training dataset, the predictions of the machine are crosschecked agains the testing data section of known values. Through this we can measure the efficiency and accuracy of the machine training. "
   ]
  },
  {
   "cell_type": "code",
   "execution_count": 18,
   "id": "5175e9e5",
   "metadata": {},
   "outputs": [],
   "source": [
    "filt = ['int.rate','log.annual.inc',]"
   ]
  },
  {
   "cell_type": "markdown",
   "id": "57a6a487",
   "metadata": {},
   "source": [
    "### The fields of interest(Features):\n",
    "• credit.policy: 1 if the customer meets the credit underwriting criteria of investor, and \n",
    "0 otherwise.\n",
    "\n",
    "• int.rate: The interest rate of the loan, as a proportion (a rate of 11% would be stored \n",
    "as 0.11). Borrowers judged by investors to be more risky are assigned higher interest \n",
    "rates.\n",
    "\n",
    "• installment: The monthly installments owed by the borrower if the loan is funded.\n",
    "\n",
    "• log.annual.inc: The natural log of the self-reported annual income of the borrower.\n",
    "\n",
    "• dti: The debt-to-income ratio of the borrower (amount of debt divided by annual\n",
    "income).\n",
    "\n",
    "• fico: The credit score of the borrower.\n",
    "\n",
    "• days.with.cr.line: The number of days the borrower has had a credit line.\n",
    "\n",
    "• revol.bal: The borrower's revolving balance (amount unpaid at the end of the credit \n",
    "card billing cycle)\n",
    "\n",
    "• revol.util: The borrower's revolving line utilization rate (the amount of the credit line \n",
    "used relative to total credit available).\n",
    "\n",
    "• inq.last.6mths: The borrower's number of inquiries by creditors in the last 6 months.\n",
    "\n",
    "• delinq.2yrs: The number of times the borrower had been 30+ days past due on a \n",
    "payment in the past 2 years.\n",
    "\n",
    "• pub.rec: The borrower's number of derogatory public records (bankruptcy filings, tax \n",
    "liens, or judgments)\n",
    "\n",
    "\n",
    "\n",
    "### Label:\n",
    "<b>not.fully.paid:</b> 0 indicates they have paid fully, 1 they have not paid fully."
   ]
  },
  {
   "cell_type": "code",
   "execution_count": 19,
   "id": "4bcbbdba",
   "metadata": {},
   "outputs": [
    {
     "name": "stdout",
     "output_type": "stream",
     "text": [
      "[[1.00000000e+00 9.20000000e-02 3.06180000e+02 1.10348897e+01\n",
      "  1.31200000e+01 7.42000000e+02 5.25004167e+03 2.44060000e+04\n",
      "  4.03000000e+01 1.00000000e+00 0.00000000e+00 0.00000000e+00]\n",
      " [1.00000000e+00 9.51000000e-02 5.92700000e+02 1.03417425e+01\n",
      "  1.64900000e+01 7.47000000e+02 4.26004167e+03 2.59460000e+04\n",
      "  3.79000000e+01 0.00000000e+00 0.00000000e+00 0.00000000e+00]\n",
      " [1.00000000e+00 1.01400000e-01 6.11100000e+02 1.06919449e+01\n",
      "  9.79000000e+00 7.32000000e+02 5.94004167e+03 0.00000000e+00\n",
      "  0.00000000e+00 0.00000000e+00 0.00000000e+00 0.00000000e+00]\n",
      " [1.00000000e+00 9.51000000e-02 4.61350000e+02 1.13858645e+01\n",
      "  9.96000000e+00 7.32000000e+02 5.25004167e+03 4.76500000e+03\n",
      "  1.65000000e+01 0.00000000e+00 0.00000000e+00 1.00000000e+00]\n",
      " [1.00000000e+00 1.58300000e-01 8.41760000e+02 1.12252434e+01\n",
      "  1.53800000e+01 6.62000000e+02 3.42004167e+03 1.52220000e+04\n",
      "  7.73000000e+01 0.00000000e+00 2.00000000e+00 0.00000000e+00]]\n",
      "[1 0 0 0 0]\n"
     ]
    }
   ],
   "source": [
    "#splitting the data X and y \n",
    "X = df_loan_data.iloc[:,[0,1,2,3,4,5,6,7,8,9,10,11]].values\n",
    "Y = df_loan_data.iloc[:,12].values\n",
    "#checking the splitting of X and Y \n",
    "print(X[395:400])\n",
    "print(Y[395:400])"
   ]
  },
  {
   "cell_type": "code",
   "execution_count": 20,
   "id": "7a387e32",
   "metadata": {},
   "outputs": [],
   "source": [
    "#Splitting data \n",
    "X_train, X_test, Y_train, Y_test = train_test_split(\n",
    " X, Y, test_size = 0.2, random_state = 0\n",
    ")"
   ]
  },
  {
   "cell_type": "markdown",
   "id": "c79b438b",
   "metadata": {},
   "source": [
    "### Splitting between test and training\n",
    "The data given should be split in between "
   ]
  },
  {
   "cell_type": "code",
   "execution_count": 21,
   "id": "79f043b4",
   "metadata": {},
   "outputs": [
    {
     "name": "stdout",
     "output_type": "stream",
     "text": [
      "[[1.0000e+00 7.7400e-02 1.5610e+02 ... 2.0000e+00 0.0000e+00 0.0000e+00]\n",
      " [0.0000e+00 1.0640e-01 5.0490e+01 ... 1.1000e+01 1.0000e+00 0.0000e+00]\n",
      " [1.0000e+00 1.3990e-01 8.5432e+02 ... 0.0000e+00 1.0000e+00 0.0000e+00]\n",
      " ...\n",
      " [1.0000e+00 1.7740e-01 7.2042e+02 ... 3.0000e+00 0.0000e+00 1.0000e+00]\n",
      " [1.0000e+00 1.2840e-01 4.0342e+02 ... 2.0000e+00 0.0000e+00 0.0000e+00]\n",
      " [1.0000e+00 1.2210e-01 3.9978e+02 ... 2.0000e+00 0.0000e+00 0.0000e+00]]\n",
      "[[1.0000e+00 1.1890e-01 4.9750e+01 ... 0.0000e+00 0.0000e+00 0.0000e+00]\n",
      " [1.0000e+00 1.2210e-01 8.4120e+01 ... 1.0000e+00 0.0000e+00 0.0000e+00]\n",
      " [1.0000e+00 1.6950e-01 7.1254e+02 ... 2.0000e+00 2.0000e+00 0.0000e+00]\n",
      " ...\n",
      " [1.0000e+00 1.4110e-01 3.4229e+02 ... 0.0000e+00 0.0000e+00 0.0000e+00]\n",
      " [1.0000e+00 1.3850e-01 5.1838e+02 ... 0.0000e+00 0.0000e+00 0.0000e+00]\n",
      " [1.0000e+00 1.0140e-01 4.2114e+02 ... 2.0000e+00 0.0000e+00 0.0000e+00]]\n"
     ]
    }
   ],
   "source": [
    "print(X_train) \n",
    "print(X_test)"
   ]
  },
  {
   "cell_type": "code",
   "execution_count": 22,
   "id": "01af96dd",
   "metadata": {},
   "outputs": [
    {
     "name": "stdout",
     "output_type": "stream",
     "text": [
      "[0 0 0 ... 0 0 0]\n",
      "[0 0 0 ... 0 1 0]\n"
     ]
    }
   ],
   "source": [
    "print(Y_train)\n",
    "print(Y_test)"
   ]
  },
  {
   "cell_type": "markdown",
   "id": "416e84da",
   "metadata": {},
   "source": [
    "*** \n",
    "## Classification "
   ]
  },
  {
   "cell_type": "markdown",
   "id": "19808f4c",
   "metadata": {},
   "source": [
    "### Binary and Multi-Class classification \n",
    "#### <u>Binary</u>\n",
    "Binary Classification is the classification of data or elements into two distinctive groups (e.g dead/alive, 1/0, male/female). It is a prediction on whether the data of interest belongs in either of the groups specified. Binary classification usually uses algorithms such as decision trees to predict outcomes. \n",
    "<br>\n",
    "#### <u>Multi-Class</u>\n",
    "Multi-Class Classification is a classification of data or elements into <strong>many</strong> different groups, not just 2 distinct groups. Multi-Class Classification usually uses algorithms such as random forrest to predict outcomes.\n",
    "<br>\n",
    "#### <u>Assignment Classification</u>\n",
    "This assignment uses a binary classification system of paid and not paid to split people into two distinct categories "
   ]
  },
  {
   "cell_type": "code",
   "execution_count": 23,
   "id": "35ed230f",
   "metadata": {},
   "outputs": [],
   "source": [
    "#Importing decision trees\n",
    "from sklearn.tree import DecisionTreeClassifier\n",
    "from sklearn.ensemble import RandomForestClassifier\n",
    "from sklearn.preprocessing import StandardScaler\n",
    "from sklearn.metrics import confusion_matrix"
   ]
  },
  {
   "cell_type": "markdown",
   "id": "49d83b3e",
   "metadata": {},
   "source": [
    "## Normalising data\n",
    "The two data in the X_train and X_test, need to be normalised. This is due to the difference in the data. "
   ]
  },
  {
   "cell_type": "code",
   "execution_count": 24,
   "id": "fd15edf6",
   "metadata": {},
   "outputs": [],
   "source": [
    "sc = StandardScaler()\n",
    "X_train = sc.fit_transform(X_train)\n",
    "X_test = sc.transform(X_test)"
   ]
  },
  {
   "cell_type": "code",
   "execution_count": 25,
   "id": "bd999be7",
   "metadata": {},
   "outputs": [
    {
     "data": {
      "text/plain": [
       "DecisionTreeClassifier(criterion='entropy', random_state=0)"
      ]
     },
     "execution_count": 25,
     "metadata": {},
     "output_type": "execute_result"
    }
   ],
   "source": [
    "#setting classifier\n",
    "classifier = DecisionTreeClassifier(\n",
    "            criterion = 'entropy', \n",
    "            random_state = 0\n",
    "            )\n",
    "#teaching our model \n",
    "classifier.fit(X_train, Y_train)"
   ]
  },
  {
   "cell_type": "code",
   "execution_count": 26,
   "id": "3b98155c",
   "metadata": {},
   "outputs": [
    {
     "data": {
      "text/plain": [
       "(array([[ 0.49113311, -1.68138005, -0.79034041, ...,  0.18999668,\n",
       "         -0.29674081, -0.24019942],\n",
       "        [-2.0361079 , -0.59953626, -1.30015637, ...,  4.28558618,\n",
       "          1.51635976, -0.24019942],\n",
       "        [ 0.49113311,  0.65017986,  2.58020877, ..., -0.72013432,\n",
       "          1.51635976, -0.24019942],\n",
       "        ...,\n",
       "        [ 0.49113311,  2.0491158 ,  1.9338272 , ...,  0.64506218,\n",
       "         -0.29674081,  3.46283471],\n",
       "        [ 0.49113311,  0.22117283,  0.40355868, ...,  0.18999668,\n",
       "         -0.29674081, -0.24019942],\n",
       "        [ 0.49113311, -0.01384841,  0.38598714, ...,  0.18999668,\n",
       "         -0.29674081, -0.24019942]]),\n",
       " array([0, 0, 0, ..., 0, 0, 0], dtype=int64))"
      ]
     },
     "execution_count": 26,
     "metadata": {},
     "output_type": "execute_result"
    }
   ],
   "source": [
    "X_train,Y_train"
   ]
  },
  {
   "cell_type": "code",
   "execution_count": 27,
   "id": "72549ca5",
   "metadata": {},
   "outputs": [
    {
     "data": {
      "text/plain": [
       "(array([[ 0.49113311, -0.13322427, -1.3037286 , ..., -0.72013432,\n",
       "         -0.29674081, -0.24019942],\n",
       "        [ 0.49113311, -0.01384841, -1.13781274, ..., -0.26506882,\n",
       "         -0.29674081, -0.24019942],\n",
       "        [ 0.49113311,  1.75440663,  1.89578772, ...,  0.18999668,\n",
       "          3.32946034, -0.24019942],\n",
       "        ...,\n",
       "        [ 0.49113311,  0.69494581,  0.10846305, ..., -0.72013432,\n",
       "         -0.29674081, -0.24019942],\n",
       "        [ 0.49113311,  0.59795291,  0.95851032, ..., -0.72013432,\n",
       "         -0.29674081, -0.24019942],\n",
       "        [ 0.49113311, -0.78606105,  0.48909924, ...,  0.18999668,\n",
       "         -0.29674081, -0.24019942]]),\n",
       " array([0, 0, 0, ..., 0, 1, 0], dtype=int64))"
      ]
     },
     "execution_count": 27,
     "metadata": {},
     "output_type": "execute_result"
    }
   ],
   "source": [
    "X_test,Y_test"
   ]
  },
  {
   "cell_type": "markdown",
   "id": "bd423fd4",
   "metadata": {},
   "source": [
    "### Predicting values\n",
    "NB. The values used here have been normalised using sklearn and are NOT a true reperesentation of the original data. "
   ]
  },
  {
   "cell_type": "code",
   "execution_count": 28,
   "id": "99b43759",
   "metadata": {},
   "outputs": [
    {
     "data": {
      "text/html": [
       "<div>\n",
       "<style scoped>\n",
       "    .dataframe tbody tr th:only-of-type {\n",
       "        vertical-align: middle;\n",
       "    }\n",
       "\n",
       "    .dataframe tbody tr th {\n",
       "        vertical-align: top;\n",
       "    }\n",
       "\n",
       "    .dataframe thead th {\n",
       "        text-align: right;\n",
       "    }\n",
       "</style>\n",
       "<table border=\"1\" class=\"dataframe\">\n",
       "  <thead>\n",
       "    <tr style=\"text-align: right;\">\n",
       "      <th></th>\n",
       "      <th>not_paid_prediction</th>\n",
       "      <th>credit.policy</th>\n",
       "      <th>int.rate</th>\n",
       "      <th>installment</th>\n",
       "      <th>log.annual.inc</th>\n",
       "      <th>dti</th>\n",
       "      <th>fico</th>\n",
       "      <th>days.with.cr.line</th>\n",
       "      <th>revol.bal</th>\n",
       "      <th>revol.util</th>\n",
       "      <th>inq.last.6mths</th>\n",
       "      <th>delinq.2yrs</th>\n",
       "      <th>pub.rec</th>\n",
       "    </tr>\n",
       "  </thead>\n",
       "  <tbody>\n",
       "    <tr>\n",
       "      <th>0</th>\n",
       "      <td>0</td>\n",
       "      <td>0.491133</td>\n",
       "      <td>-0.133224</td>\n",
       "      <td>-1.303729</td>\n",
       "      <td>-0.183343</td>\n",
       "      <td>0.629609</td>\n",
       "      <td>-0.634896</td>\n",
       "      <td>-0.896101</td>\n",
       "      <td>-0.464108</td>\n",
       "      <td>0.596380</td>\n",
       "      <td>-0.720134</td>\n",
       "      <td>-0.296741</td>\n",
       "      <td>-0.240199</td>\n",
       "    </tr>\n",
       "    <tr>\n",
       "      <th>1</th>\n",
       "      <td>0</td>\n",
       "      <td>0.491133</td>\n",
       "      <td>-0.013848</td>\n",
       "      <td>-1.137813</td>\n",
       "      <td>-1.203518</td>\n",
       "      <td>-0.367630</td>\n",
       "      <td>-0.107357</td>\n",
       "      <td>-0.732477</td>\n",
       "      <td>-0.330767</td>\n",
       "      <td>-0.819921</td>\n",
       "      <td>-0.265069</td>\n",
       "      <td>-0.296741</td>\n",
       "      <td>-0.240199</td>\n",
       "    </tr>\n",
       "    <tr>\n",
       "      <th>2</th>\n",
       "      <td>0</td>\n",
       "      <td>0.491133</td>\n",
       "      <td>1.754407</td>\n",
       "      <td>1.895788</td>\n",
       "      <td>1.590433</td>\n",
       "      <td>0.156392</td>\n",
       "      <td>-1.030551</td>\n",
       "      <td>0.095335</td>\n",
       "      <td>-0.021038</td>\n",
       "      <td>1.630176</td>\n",
       "      <td>0.189997</td>\n",
       "      <td>3.329460</td>\n",
       "      <td>-0.240199</td>\n",
       "    </tr>\n",
       "    <tr>\n",
       "      <th>3</th>\n",
       "      <td>0</td>\n",
       "      <td>0.491133</td>\n",
       "      <td>1.918548</td>\n",
       "      <td>-0.159503</td>\n",
       "      <td>0.403591</td>\n",
       "      <td>1.024440</td>\n",
       "      <td>-1.162436</td>\n",
       "      <td>0.958609</td>\n",
       "      <td>0.076626</td>\n",
       "      <td>0.696313</td>\n",
       "      <td>-0.265069</td>\n",
       "      <td>-0.296741</td>\n",
       "      <td>3.462835</td>\n",
       "    </tr>\n",
       "    <tr>\n",
       "      <th>4</th>\n",
       "      <td>0</td>\n",
       "      <td>-2.036108</td>\n",
       "      <td>0.325627</td>\n",
       "      <td>-0.566303</td>\n",
       "      <td>-2.524781</td>\n",
       "      <td>-1.180517</td>\n",
       "      <td>-1.426206</td>\n",
       "      <td>-1.454283</td>\n",
       "      <td>-0.341593</td>\n",
       "      <td>0.086374</td>\n",
       "      <td>3.375455</td>\n",
       "      <td>-0.296741</td>\n",
       "      <td>-0.240199</td>\n",
       "    </tr>\n",
       "    <tr>\n",
       "      <th>...</th>\n",
       "      <td>...</td>\n",
       "      <td>...</td>\n",
       "      <td>...</td>\n",
       "      <td>...</td>\n",
       "      <td>...</td>\n",
       "      <td>...</td>\n",
       "      <td>...</td>\n",
       "      <td>...</td>\n",
       "      <td>...</td>\n",
       "      <td>...</td>\n",
       "      <td>...</td>\n",
       "      <td>...</td>\n",
       "      <td>...</td>\n",
       "    </tr>\n",
       "    <tr>\n",
       "      <th>1911</th>\n",
       "      <td>0</td>\n",
       "      <td>0.491133</td>\n",
       "      <td>1.754407</td>\n",
       "      <td>-0.167999</td>\n",
       "      <td>2.416200</td>\n",
       "      <td>-0.591174</td>\n",
       "      <td>-1.294321</td>\n",
       "      <td>0.201752</td>\n",
       "      <td>0.851363</td>\n",
       "      <td>1.712879</td>\n",
       "      <td>0.645062</td>\n",
       "      <td>-0.296741</td>\n",
       "      <td>-0.240199</td>\n",
       "    </tr>\n",
       "    <tr>\n",
       "      <th>1912</th>\n",
       "      <td>0</td>\n",
       "      <td>-2.036108</td>\n",
       "      <td>1.142605</td>\n",
       "      <td>-0.703545</td>\n",
       "      <td>-0.734793</td>\n",
       "      <td>-1.350352</td>\n",
       "      <td>-1.162436</td>\n",
       "      <td>0.071667</td>\n",
       "      <td>-0.408464</td>\n",
       "      <td>0.568812</td>\n",
       "      <td>1.100128</td>\n",
       "      <td>-0.296741</td>\n",
       "      <td>-0.240199</td>\n",
       "    </tr>\n",
       "    <tr>\n",
       "      <th>1913</th>\n",
       "      <td>0</td>\n",
       "      <td>0.491133</td>\n",
       "      <td>0.694946</td>\n",
       "      <td>0.108463</td>\n",
       "      <td>0.405840</td>\n",
       "      <td>1.766199</td>\n",
       "      <td>-0.898666</td>\n",
       "      <td>-0.989509</td>\n",
       "      <td>0.804774</td>\n",
       "      <td>1.130508</td>\n",
       "      <td>-0.720134</td>\n",
       "      <td>-0.296741</td>\n",
       "      <td>-0.240199</td>\n",
       "    </tr>\n",
       "    <tr>\n",
       "      <th>1914</th>\n",
       "      <td>0</td>\n",
       "      <td>0.491133</td>\n",
       "      <td>0.597953</td>\n",
       "      <td>0.958510</td>\n",
       "      <td>1.293374</td>\n",
       "      <td>-1.819214</td>\n",
       "      <td>-0.503011</td>\n",
       "      <td>-0.921707</td>\n",
       "      <td>-0.491587</td>\n",
       "      <td>-1.612498</td>\n",
       "      <td>-0.720134</td>\n",
       "      <td>-0.296741</td>\n",
       "      <td>-0.240199</td>\n",
       "    </tr>\n",
       "    <tr>\n",
       "      <th>1915</th>\n",
       "      <td>0</td>\n",
       "      <td>0.491133</td>\n",
       "      <td>-0.786061</td>\n",
       "      <td>0.489099</td>\n",
       "      <td>-0.563127</td>\n",
       "      <td>0.649931</td>\n",
       "      <td>1.079608</td>\n",
       "      <td>-0.094289</td>\n",
       "      <td>0.535150</td>\n",
       "      <td>0.324147</td>\n",
       "      <td>0.189997</td>\n",
       "      <td>-0.296741</td>\n",
       "      <td>-0.240199</td>\n",
       "    </tr>\n",
       "  </tbody>\n",
       "</table>\n",
       "<p>1916 rows × 13 columns</p>\n",
       "</div>"
      ],
      "text/plain": [
       "      not_paid_prediction  credit.policy  int.rate  installment  \\\n",
       "0                       0       0.491133 -0.133224    -1.303729   \n",
       "1                       0       0.491133 -0.013848    -1.137813   \n",
       "2                       0       0.491133  1.754407     1.895788   \n",
       "3                       0       0.491133  1.918548    -0.159503   \n",
       "4                       0      -2.036108  0.325627    -0.566303   \n",
       "...                   ...            ...       ...          ...   \n",
       "1911                    0       0.491133  1.754407    -0.167999   \n",
       "1912                    0      -2.036108  1.142605    -0.703545   \n",
       "1913                    0       0.491133  0.694946     0.108463   \n",
       "1914                    0       0.491133  0.597953     0.958510   \n",
       "1915                    0       0.491133 -0.786061     0.489099   \n",
       "\n",
       "      log.annual.inc       dti      fico  days.with.cr.line  revol.bal  \\\n",
       "0          -0.183343  0.629609 -0.634896          -0.896101  -0.464108   \n",
       "1          -1.203518 -0.367630 -0.107357          -0.732477  -0.330767   \n",
       "2           1.590433  0.156392 -1.030551           0.095335  -0.021038   \n",
       "3           0.403591  1.024440 -1.162436           0.958609   0.076626   \n",
       "4          -2.524781 -1.180517 -1.426206          -1.454283  -0.341593   \n",
       "...              ...       ...       ...                ...        ...   \n",
       "1911        2.416200 -0.591174 -1.294321           0.201752   0.851363   \n",
       "1912       -0.734793 -1.350352 -1.162436           0.071667  -0.408464   \n",
       "1913        0.405840  1.766199 -0.898666          -0.989509   0.804774   \n",
       "1914        1.293374 -1.819214 -0.503011          -0.921707  -0.491587   \n",
       "1915       -0.563127  0.649931  1.079608          -0.094289   0.535150   \n",
       "\n",
       "      revol.util  inq.last.6mths  delinq.2yrs   pub.rec  \n",
       "0       0.596380       -0.720134    -0.296741 -0.240199  \n",
       "1      -0.819921       -0.265069    -0.296741 -0.240199  \n",
       "2       1.630176        0.189997     3.329460 -0.240199  \n",
       "3       0.696313       -0.265069    -0.296741  3.462835  \n",
       "4       0.086374        3.375455    -0.296741 -0.240199  \n",
       "...          ...             ...          ...       ...  \n",
       "1911    1.712879        0.645062    -0.296741 -0.240199  \n",
       "1912    0.568812        1.100128    -0.296741 -0.240199  \n",
       "1913    1.130508       -0.720134    -0.296741 -0.240199  \n",
       "1914   -1.612498       -0.720134    -0.296741 -0.240199  \n",
       "1915    0.324147        0.189997    -0.296741 -0.240199  \n",
       "\n",
       "[1916 rows x 13 columns]"
      ]
     },
     "execution_count": 28,
     "metadata": {},
     "output_type": "execute_result"
    }
   ],
   "source": [
    "Y_pred = classifier.predict(X_test)\n",
    "df_prediction = pd.DataFrame(X_test,Y_pred)\n",
    "df_prediction = df_prediction.reset_index(drop=False)\n",
    "df_prediction = df_prediction.rename(columns={\n",
    "    \"index\":\"not_paid_prediction\",\n",
    "    0:\"credit.policy\",\n",
    "    1:\"int.rate\",\n",
    "    2:\"installment\",\n",
    "    3:\"log.annual.inc\",\n",
    "    4:\"dti\",\n",
    "    5:\"fico\",\n",
    "    6:\"days.with.cr.line\",\n",
    "    7:\"revol.bal\",\n",
    "    8:\"revol.util\",\n",
    "    9:\"inq.last.6mths\",\n",
    "    10:\"delinq.2yrs\",\n",
    "    11:\"pub.rec\"\n",
    "    })\n",
    "df_prediction"
   ]
  },
  {
   "cell_type": "markdown",
   "id": "9313bb9e",
   "metadata": {},
   "source": [
    "### Checking accuracy of our prediction "
   ]
  },
  {
   "cell_type": "code",
   "execution_count": 29,
   "id": "382a0edc",
   "metadata": {},
   "outputs": [
    {
     "data": {
      "text/plain": [
       "0.7609603340292276"
      ]
     },
     "execution_count": 29,
     "metadata": {},
     "output_type": "execute_result"
    }
   ],
   "source": [
    "classifier.score(X_test,Y_test)"
   ]
  },
  {
   "cell_type": "code",
   "execution_count": 30,
   "id": "aca41da5",
   "metadata": {},
   "outputs": [
    {
     "data": {
      "text/plain": [
       "array([[1378,  237],\n",
       "       [ 221,   80]], dtype=int64)"
      ]
     },
     "execution_count": 30,
     "metadata": {},
     "output_type": "execute_result"
    }
   ],
   "source": [
    "matDecisionTree = confusion_matrix(Y_test,Y_pred)\n",
    "matDecisionTree"
   ]
  },
  {
   "cell_type": "markdown",
   "id": "bf2248a4",
   "metadata": {},
   "source": [
    "### Decision Tree Matrix \n",
    "It is shown in our decision tree matrix that there were 1378 correct no predictions however there were more wrong when predicting yes with 237 wrong yes predicitons."
   ]
  },
  {
   "cell_type": "markdown",
   "id": "2a1d9f7b",
   "metadata": {},
   "source": [
    "### Using Random Forrest "
   ]
  },
  {
   "cell_type": "code",
   "execution_count": 31,
   "id": "17f04981",
   "metadata": {},
   "outputs": [
    {
     "data": {
      "text/plain": [
       "RandomForestClassifier(criterion='entropy', n_estimators=40, random_state=0)"
      ]
     },
     "execution_count": 31,
     "metadata": {},
     "output_type": "execute_result"
    }
   ],
   "source": [
    "classifier_RandomFor = RandomForestClassifier(\n",
    "                        n_estimators = 40, \n",
    "                        criterion = 'entropy', \n",
    "                        random_state = 0\n",
    "                        )\n",
    "#Training our model \n",
    "classifier_RandomFor.fit(X_train, Y_train)"
   ]
  },
  {
   "cell_type": "markdown",
   "id": "cb8e57e5",
   "metadata": {},
   "source": [
    "### Predicting values using Random Forest\n",
    "NB. The values used here have been normalised using sklearn and are NOT a true reperesentation of the original data. "
   ]
  },
  {
   "cell_type": "code",
   "execution_count": 32,
   "id": "0e957f40",
   "metadata": {},
   "outputs": [
    {
     "data": {
      "text/html": [
       "<div>\n",
       "<style scoped>\n",
       "    .dataframe tbody tr th:only-of-type {\n",
       "        vertical-align: middle;\n",
       "    }\n",
       "\n",
       "    .dataframe tbody tr th {\n",
       "        vertical-align: top;\n",
       "    }\n",
       "\n",
       "    .dataframe thead th {\n",
       "        text-align: right;\n",
       "    }\n",
       "</style>\n",
       "<table border=\"1\" class=\"dataframe\">\n",
       "  <thead>\n",
       "    <tr style=\"text-align: right;\">\n",
       "      <th></th>\n",
       "      <th>not_paid_prediction</th>\n",
       "      <th>credit.policy</th>\n",
       "      <th>int.rate</th>\n",
       "      <th>installment</th>\n",
       "      <th>log.annual.inc</th>\n",
       "      <th>dti</th>\n",
       "      <th>fico</th>\n",
       "      <th>days.with.cr.line</th>\n",
       "      <th>revol.bal</th>\n",
       "      <th>revol.util</th>\n",
       "      <th>inq.last.6mths</th>\n",
       "      <th>delinq.2yrs</th>\n",
       "      <th>pub.rec</th>\n",
       "    </tr>\n",
       "  </thead>\n",
       "  <tbody>\n",
       "    <tr>\n",
       "      <th>0</th>\n",
       "      <td>0</td>\n",
       "      <td>0.491133</td>\n",
       "      <td>-0.133224</td>\n",
       "      <td>-1.303729</td>\n",
       "      <td>-0.183343</td>\n",
       "      <td>0.629609</td>\n",
       "      <td>-0.634896</td>\n",
       "      <td>-0.896101</td>\n",
       "      <td>-0.464108</td>\n",
       "      <td>0.596380</td>\n",
       "      <td>-0.720134</td>\n",
       "      <td>-0.296741</td>\n",
       "      <td>-0.240199</td>\n",
       "    </tr>\n",
       "    <tr>\n",
       "      <th>1</th>\n",
       "      <td>0</td>\n",
       "      <td>0.491133</td>\n",
       "      <td>-0.013848</td>\n",
       "      <td>-1.137813</td>\n",
       "      <td>-1.203518</td>\n",
       "      <td>-0.367630</td>\n",
       "      <td>-0.107357</td>\n",
       "      <td>-0.732477</td>\n",
       "      <td>-0.330767</td>\n",
       "      <td>-0.819921</td>\n",
       "      <td>-0.265069</td>\n",
       "      <td>-0.296741</td>\n",
       "      <td>-0.240199</td>\n",
       "    </tr>\n",
       "    <tr>\n",
       "      <th>2</th>\n",
       "      <td>0</td>\n",
       "      <td>0.491133</td>\n",
       "      <td>1.754407</td>\n",
       "      <td>1.895788</td>\n",
       "      <td>1.590433</td>\n",
       "      <td>0.156392</td>\n",
       "      <td>-1.030551</td>\n",
       "      <td>0.095335</td>\n",
       "      <td>-0.021038</td>\n",
       "      <td>1.630176</td>\n",
       "      <td>0.189997</td>\n",
       "      <td>3.329460</td>\n",
       "      <td>-0.240199</td>\n",
       "    </tr>\n",
       "    <tr>\n",
       "      <th>3</th>\n",
       "      <td>0</td>\n",
       "      <td>0.491133</td>\n",
       "      <td>1.918548</td>\n",
       "      <td>-0.159503</td>\n",
       "      <td>0.403591</td>\n",
       "      <td>1.024440</td>\n",
       "      <td>-1.162436</td>\n",
       "      <td>0.958609</td>\n",
       "      <td>0.076626</td>\n",
       "      <td>0.696313</td>\n",
       "      <td>-0.265069</td>\n",
       "      <td>-0.296741</td>\n",
       "      <td>3.462835</td>\n",
       "    </tr>\n",
       "    <tr>\n",
       "      <th>4</th>\n",
       "      <td>1</td>\n",
       "      <td>-2.036108</td>\n",
       "      <td>0.325627</td>\n",
       "      <td>-0.566303</td>\n",
       "      <td>-2.524781</td>\n",
       "      <td>-1.180517</td>\n",
       "      <td>-1.426206</td>\n",
       "      <td>-1.454283</td>\n",
       "      <td>-0.341593</td>\n",
       "      <td>0.086374</td>\n",
       "      <td>3.375455</td>\n",
       "      <td>-0.296741</td>\n",
       "      <td>-0.240199</td>\n",
       "    </tr>\n",
       "    <tr>\n",
       "      <th>...</th>\n",
       "      <td>...</td>\n",
       "      <td>...</td>\n",
       "      <td>...</td>\n",
       "      <td>...</td>\n",
       "      <td>...</td>\n",
       "      <td>...</td>\n",
       "      <td>...</td>\n",
       "      <td>...</td>\n",
       "      <td>...</td>\n",
       "      <td>...</td>\n",
       "      <td>...</td>\n",
       "      <td>...</td>\n",
       "      <td>...</td>\n",
       "    </tr>\n",
       "    <tr>\n",
       "      <th>1911</th>\n",
       "      <td>0</td>\n",
       "      <td>0.491133</td>\n",
       "      <td>1.754407</td>\n",
       "      <td>-0.167999</td>\n",
       "      <td>2.416200</td>\n",
       "      <td>-0.591174</td>\n",
       "      <td>-1.294321</td>\n",
       "      <td>0.201752</td>\n",
       "      <td>0.851363</td>\n",
       "      <td>1.712879</td>\n",
       "      <td>0.645062</td>\n",
       "      <td>-0.296741</td>\n",
       "      <td>-0.240199</td>\n",
       "    </tr>\n",
       "    <tr>\n",
       "      <th>1912</th>\n",
       "      <td>0</td>\n",
       "      <td>-2.036108</td>\n",
       "      <td>1.142605</td>\n",
       "      <td>-0.703545</td>\n",
       "      <td>-0.734793</td>\n",
       "      <td>-1.350352</td>\n",
       "      <td>-1.162436</td>\n",
       "      <td>0.071667</td>\n",
       "      <td>-0.408464</td>\n",
       "      <td>0.568812</td>\n",
       "      <td>1.100128</td>\n",
       "      <td>-0.296741</td>\n",
       "      <td>-0.240199</td>\n",
       "    </tr>\n",
       "    <tr>\n",
       "      <th>1913</th>\n",
       "      <td>0</td>\n",
       "      <td>0.491133</td>\n",
       "      <td>0.694946</td>\n",
       "      <td>0.108463</td>\n",
       "      <td>0.405840</td>\n",
       "      <td>1.766199</td>\n",
       "      <td>-0.898666</td>\n",
       "      <td>-0.989509</td>\n",
       "      <td>0.804774</td>\n",
       "      <td>1.130508</td>\n",
       "      <td>-0.720134</td>\n",
       "      <td>-0.296741</td>\n",
       "      <td>-0.240199</td>\n",
       "    </tr>\n",
       "    <tr>\n",
       "      <th>1914</th>\n",
       "      <td>0</td>\n",
       "      <td>0.491133</td>\n",
       "      <td>0.597953</td>\n",
       "      <td>0.958510</td>\n",
       "      <td>1.293374</td>\n",
       "      <td>-1.819214</td>\n",
       "      <td>-0.503011</td>\n",
       "      <td>-0.921707</td>\n",
       "      <td>-0.491587</td>\n",
       "      <td>-1.612498</td>\n",
       "      <td>-0.720134</td>\n",
       "      <td>-0.296741</td>\n",
       "      <td>-0.240199</td>\n",
       "    </tr>\n",
       "    <tr>\n",
       "      <th>1915</th>\n",
       "      <td>0</td>\n",
       "      <td>0.491133</td>\n",
       "      <td>-0.786061</td>\n",
       "      <td>0.489099</td>\n",
       "      <td>-0.563127</td>\n",
       "      <td>0.649931</td>\n",
       "      <td>1.079608</td>\n",
       "      <td>-0.094289</td>\n",
       "      <td>0.535150</td>\n",
       "      <td>0.324147</td>\n",
       "      <td>0.189997</td>\n",
       "      <td>-0.296741</td>\n",
       "      <td>-0.240199</td>\n",
       "    </tr>\n",
       "  </tbody>\n",
       "</table>\n",
       "<p>1916 rows × 13 columns</p>\n",
       "</div>"
      ],
      "text/plain": [
       "      not_paid_prediction  credit.policy  int.rate  installment  \\\n",
       "0                       0       0.491133 -0.133224    -1.303729   \n",
       "1                       0       0.491133 -0.013848    -1.137813   \n",
       "2                       0       0.491133  1.754407     1.895788   \n",
       "3                       0       0.491133  1.918548    -0.159503   \n",
       "4                       1      -2.036108  0.325627    -0.566303   \n",
       "...                   ...            ...       ...          ...   \n",
       "1911                    0       0.491133  1.754407    -0.167999   \n",
       "1912                    0      -2.036108  1.142605    -0.703545   \n",
       "1913                    0       0.491133  0.694946     0.108463   \n",
       "1914                    0       0.491133  0.597953     0.958510   \n",
       "1915                    0       0.491133 -0.786061     0.489099   \n",
       "\n",
       "      log.annual.inc       dti      fico  days.with.cr.line  revol.bal  \\\n",
       "0          -0.183343  0.629609 -0.634896          -0.896101  -0.464108   \n",
       "1          -1.203518 -0.367630 -0.107357          -0.732477  -0.330767   \n",
       "2           1.590433  0.156392 -1.030551           0.095335  -0.021038   \n",
       "3           0.403591  1.024440 -1.162436           0.958609   0.076626   \n",
       "4          -2.524781 -1.180517 -1.426206          -1.454283  -0.341593   \n",
       "...              ...       ...       ...                ...        ...   \n",
       "1911        2.416200 -0.591174 -1.294321           0.201752   0.851363   \n",
       "1912       -0.734793 -1.350352 -1.162436           0.071667  -0.408464   \n",
       "1913        0.405840  1.766199 -0.898666          -0.989509   0.804774   \n",
       "1914        1.293374 -1.819214 -0.503011          -0.921707  -0.491587   \n",
       "1915       -0.563127  0.649931  1.079608          -0.094289   0.535150   \n",
       "\n",
       "      revol.util  inq.last.6mths  delinq.2yrs   pub.rec  \n",
       "0       0.596380       -0.720134    -0.296741 -0.240199  \n",
       "1      -0.819921       -0.265069    -0.296741 -0.240199  \n",
       "2       1.630176        0.189997     3.329460 -0.240199  \n",
       "3       0.696313       -0.265069    -0.296741  3.462835  \n",
       "4       0.086374        3.375455    -0.296741 -0.240199  \n",
       "...          ...             ...          ...       ...  \n",
       "1911    1.712879        0.645062    -0.296741 -0.240199  \n",
       "1912    0.568812        1.100128    -0.296741 -0.240199  \n",
       "1913    1.130508       -0.720134    -0.296741 -0.240199  \n",
       "1914   -1.612498       -0.720134    -0.296741 -0.240199  \n",
       "1915    0.324147        0.189997    -0.296741 -0.240199  \n",
       "\n",
       "[1916 rows x 13 columns]"
      ]
     },
     "execution_count": 32,
     "metadata": {},
     "output_type": "execute_result"
    }
   ],
   "source": [
    "Y_pred = classifier_RandomFor.predict(X_test)\n",
    "df_prediction = pd.DataFrame(X_test,Y_pred)\n",
    "df_prediction = df_prediction.reset_index(drop=False)\n",
    "df_prediction = df_prediction.rename(columns={\n",
    "    \"index\":\"not_paid_prediction\",\n",
    "    0:\"credit.policy\",\n",
    "    1:\"int.rate\",\n",
    "    2:\"installment\",\n",
    "    3:\"log.annual.inc\",\n",
    "    4:\"dti\",\n",
    "    5:\"fico\",\n",
    "    6:\"days.with.cr.line\",\n",
    "    7:\"revol.bal\",\n",
    "    8:\"revol.util\",\n",
    "    9:\"inq.last.6mths\",\n",
    "    10:\"delinq.2yrs\",\n",
    "    11:\"pub.rec\"\n",
    "    \n",
    "    })\n",
    "df_prediction"
   ]
  },
  {
   "cell_type": "markdown",
   "id": "38235fbf",
   "metadata": {},
   "source": [
    "### Checking Accuracy\n",
    "In this segment, the random forest performed much better than the decision tree and this is shown in both the confusion matrix and the score. With the matrix predicting 1604 correct no responses however yes responses were still more incorrectly predicted. Despite this, there are less wrong predictions in comparison to the decision tree."
   ]
  },
  {
   "cell_type": "code",
   "execution_count": 33,
   "id": "ab6eff6a",
   "metadata": {},
   "outputs": [
    {
     "data": {
      "text/plain": [
       "array([[1604,   11],\n",
       "       [ 292,    9]], dtype=int64)"
      ]
     },
     "execution_count": 33,
     "metadata": {},
     "output_type": "execute_result"
    }
   ],
   "source": [
    "Random_Tree_Matrix = confusion_matrix(Y_test,Y_pred)\n",
    "Random_Tree_Matrix"
   ]
  },
  {
   "cell_type": "code",
   "execution_count": 34,
   "id": "d73ff48d",
   "metadata": {},
   "outputs": [
    {
     "data": {
      "text/plain": [
       "0.8418580375782881"
      ]
     },
     "execution_count": 34,
     "metadata": {},
     "output_type": "execute_result"
    }
   ],
   "source": [
    "classifier_RandomFor.score(X_test, Y_test)"
   ]
  },
  {
   "cell_type": "markdown",
   "id": "4e5f7d77",
   "metadata": {},
   "source": [
    "***\n",
    "## Conclusion "
   ]
  },
  {
   "cell_type": "markdown",
   "id": "18ca4f11",
   "metadata": {},
   "source": [
    "It can be concluded that overall the Random Forest had a better scoring with a classfier score of 0.84 compared to the decision tree classifier at 0.76. It can be predicted that the reason for this is because of the decision tree's limitations when predicting many continuous features. Another reason would be the decision tree's tendency to overfit data in comparison to the Random Forest algorithms. This leads to less accurate predicted data. "
   ]
  },
  {
   "cell_type": "markdown",
   "id": "8f7d5bb6",
   "metadata": {},
   "source": [
    "***\n",
    "## Question 2"
   ]
  },
  {
   "cell_type": "markdown",
   "id": "46b24d82",
   "metadata": {},
   "source": [
    "## Introduction \n",
    "This question aims to predict whether a mobile application or a website is more beneficial to an Ecommerce compnay that sells clothing online. To achieve this, methods such as scatter plots to find correlation and a linear regression is used. "
   ]
  },
  {
   "cell_type": "markdown",
   "id": "9b0b9a29",
   "metadata": {},
   "source": [
    "### Extracting CSV"
   ]
  },
  {
   "cell_type": "code",
   "execution_count": 36,
   "id": "5ffcec98",
   "metadata": {},
   "outputs": [
    {
     "data": {
      "text/html": [
       "<div>\n",
       "<style scoped>\n",
       "    .dataframe tbody tr th:only-of-type {\n",
       "        vertical-align: middle;\n",
       "    }\n",
       "\n",
       "    .dataframe tbody tr th {\n",
       "        vertical-align: top;\n",
       "    }\n",
       "\n",
       "    .dataframe thead th {\n",
       "        text-align: right;\n",
       "    }\n",
       "</style>\n",
       "<table border=\"1\" class=\"dataframe\">\n",
       "  <thead>\n",
       "    <tr style=\"text-align: right;\">\n",
       "      <th></th>\n",
       "      <th>Customer info-color Avatar</th>\n",
       "      <th>Avg. Session Length</th>\n",
       "      <th>Time on App</th>\n",
       "      <th>Time on Website</th>\n",
       "      <th>Length of Membership</th>\n",
       "      <th>Yearly Amount Spent</th>\n",
       "    </tr>\n",
       "  </thead>\n",
       "  <tbody>\n",
       "    <tr>\n",
       "      <th>0</th>\n",
       "      <td>Violet</td>\n",
       "      <td>34.497268</td>\n",
       "      <td>12.655651</td>\n",
       "      <td>39.577668</td>\n",
       "      <td>4.082621</td>\n",
       "      <td>587.951054</td>\n",
       "    </tr>\n",
       "    <tr>\n",
       "      <th>1</th>\n",
       "      <td>DarkGreen</td>\n",
       "      <td>31.926272</td>\n",
       "      <td>11.109461</td>\n",
       "      <td>37.268959</td>\n",
       "      <td>2.664034</td>\n",
       "      <td>392.204933</td>\n",
       "    </tr>\n",
       "    <tr>\n",
       "      <th>2</th>\n",
       "      <td>Bisque</td>\n",
       "      <td>33.000915</td>\n",
       "      <td>11.330278</td>\n",
       "      <td>37.110597</td>\n",
       "      <td>4.104543</td>\n",
       "      <td>487.547505</td>\n",
       "    </tr>\n",
       "    <tr>\n",
       "      <th>3</th>\n",
       "      <td>SaddleBrown</td>\n",
       "      <td>34.305557</td>\n",
       "      <td>13.717514</td>\n",
       "      <td>36.721283</td>\n",
       "      <td>3.120179</td>\n",
       "      <td>581.852344</td>\n",
       "    </tr>\n",
       "    <tr>\n",
       "      <th>4</th>\n",
       "      <td>MediumAquaMarine</td>\n",
       "      <td>33.330673</td>\n",
       "      <td>12.795189</td>\n",
       "      <td>37.536653</td>\n",
       "      <td>4.446308</td>\n",
       "      <td>599.406092</td>\n",
       "    </tr>\n",
       "    <tr>\n",
       "      <th>...</th>\n",
       "      <td>...</td>\n",
       "      <td>...</td>\n",
       "      <td>...</td>\n",
       "      <td>...</td>\n",
       "      <td>...</td>\n",
       "      <td>...</td>\n",
       "    </tr>\n",
       "    <tr>\n",
       "      <th>495</th>\n",
       "      <td>Tan</td>\n",
       "      <td>33.237660</td>\n",
       "      <td>13.566160</td>\n",
       "      <td>36.417985</td>\n",
       "      <td>3.746573</td>\n",
       "      <td>573.847438</td>\n",
       "    </tr>\n",
       "    <tr>\n",
       "      <th>496</th>\n",
       "      <td>PaleVioletRed</td>\n",
       "      <td>34.702529</td>\n",
       "      <td>11.695736</td>\n",
       "      <td>37.190268</td>\n",
       "      <td>3.576526</td>\n",
       "      <td>529.049004</td>\n",
       "    </tr>\n",
       "    <tr>\n",
       "      <th>497</th>\n",
       "      <td>Cornsilk</td>\n",
       "      <td>32.646777</td>\n",
       "      <td>11.499409</td>\n",
       "      <td>38.332576</td>\n",
       "      <td>4.958264</td>\n",
       "      <td>551.620146</td>\n",
       "    </tr>\n",
       "    <tr>\n",
       "      <th>498</th>\n",
       "      <td>Teal</td>\n",
       "      <td>33.322501</td>\n",
       "      <td>12.391423</td>\n",
       "      <td>36.840086</td>\n",
       "      <td>2.336485</td>\n",
       "      <td>456.469510</td>\n",
       "    </tr>\n",
       "    <tr>\n",
       "      <th>499</th>\n",
       "      <td>DarkMagenta</td>\n",
       "      <td>33.715981</td>\n",
       "      <td>12.418808</td>\n",
       "      <td>35.771016</td>\n",
       "      <td>2.735160</td>\n",
       "      <td>497.778642</td>\n",
       "    </tr>\n",
       "  </tbody>\n",
       "</table>\n",
       "<p>500 rows × 6 columns</p>\n",
       "</div>"
      ],
      "text/plain": [
       "    Customer info-color Avatar  Avg. Session Length  Time on App  \\\n",
       "0                       Violet            34.497268    12.655651   \n",
       "1                    DarkGreen            31.926272    11.109461   \n",
       "2                       Bisque            33.000915    11.330278   \n",
       "3                  SaddleBrown            34.305557    13.717514   \n",
       "4             MediumAquaMarine            33.330673    12.795189   \n",
       "..                         ...                  ...          ...   \n",
       "495                        Tan            33.237660    13.566160   \n",
       "496              PaleVioletRed            34.702529    11.695736   \n",
       "497                   Cornsilk            32.646777    11.499409   \n",
       "498                       Teal            33.322501    12.391423   \n",
       "499                DarkMagenta            33.715981    12.418808   \n",
       "\n",
       "     Time on Website  Length of Membership  Yearly Amount Spent  \n",
       "0          39.577668              4.082621           587.951054  \n",
       "1          37.268959              2.664034           392.204933  \n",
       "2          37.110597              4.104543           487.547505  \n",
       "3          36.721283              3.120179           581.852344  \n",
       "4          37.536653              4.446308           599.406092  \n",
       "..               ...                   ...                  ...  \n",
       "495        36.417985              3.746573           573.847438  \n",
       "496        37.190268              3.576526           529.049004  \n",
       "497        38.332576              4.958264           551.620146  \n",
       "498        36.840086              2.336485           456.469510  \n",
       "499        35.771016              2.735160           497.778642  \n",
       "\n",
       "[500 rows x 6 columns]"
      ]
     },
     "execution_count": 36,
     "metadata": {},
     "output_type": "execute_result"
    }
   ],
   "source": [
    "customer_shop = pd.read_csv(\"loan_payment_data/customers-shop.csv\")\n",
    "customer_shop"
   ]
  },
  {
   "cell_type": "code",
   "execution_count": 37,
   "id": "cb9f78ce",
   "metadata": {},
   "outputs": [
    {
     "data": {
      "text/html": [
       "<div>\n",
       "<style scoped>\n",
       "    .dataframe tbody tr th:only-of-type {\n",
       "        vertical-align: middle;\n",
       "    }\n",
       "\n",
       "    .dataframe tbody tr th {\n",
       "        vertical-align: top;\n",
       "    }\n",
       "\n",
       "    .dataframe thead th {\n",
       "        text-align: right;\n",
       "    }\n",
       "</style>\n",
       "<table border=\"1\" class=\"dataframe\">\n",
       "  <thead>\n",
       "    <tr style=\"text-align: right;\">\n",
       "      <th></th>\n",
       "      <th>Customer info-color Avatar</th>\n",
       "      <th>Avg. Session Length</th>\n",
       "      <th>Time on App</th>\n",
       "      <th>Time on Website</th>\n",
       "      <th>Length of Membership</th>\n",
       "      <th>Yearly Amount Spent</th>\n",
       "    </tr>\n",
       "  </thead>\n",
       "  <tbody>\n",
       "    <tr>\n",
       "      <th>0</th>\n",
       "      <td>Violet</td>\n",
       "      <td>34.497268</td>\n",
       "      <td>12.655651</td>\n",
       "      <td>39.577668</td>\n",
       "      <td>4.082621</td>\n",
       "      <td>587.951054</td>\n",
       "    </tr>\n",
       "    <tr>\n",
       "      <th>1</th>\n",
       "      <td>DarkGreen</td>\n",
       "      <td>31.926272</td>\n",
       "      <td>11.109461</td>\n",
       "      <td>37.268959</td>\n",
       "      <td>2.664034</td>\n",
       "      <td>392.204933</td>\n",
       "    </tr>\n",
       "    <tr>\n",
       "      <th>2</th>\n",
       "      <td>Bisque</td>\n",
       "      <td>33.000915</td>\n",
       "      <td>11.330278</td>\n",
       "      <td>37.110597</td>\n",
       "      <td>4.104543</td>\n",
       "      <td>487.547505</td>\n",
       "    </tr>\n",
       "    <tr>\n",
       "      <th>3</th>\n",
       "      <td>SaddleBrown</td>\n",
       "      <td>34.305557</td>\n",
       "      <td>13.717514</td>\n",
       "      <td>36.721283</td>\n",
       "      <td>3.120179</td>\n",
       "      <td>581.852344</td>\n",
       "    </tr>\n",
       "    <tr>\n",
       "      <th>4</th>\n",
       "      <td>MediumAquaMarine</td>\n",
       "      <td>33.330673</td>\n",
       "      <td>12.795189</td>\n",
       "      <td>37.536653</td>\n",
       "      <td>4.446308</td>\n",
       "      <td>599.406092</td>\n",
       "    </tr>\n",
       "  </tbody>\n",
       "</table>\n",
       "</div>"
      ],
      "text/plain": [
       "  Customer info-color Avatar  Avg. Session Length  Time on App  \\\n",
       "0                     Violet            34.497268    12.655651   \n",
       "1                  DarkGreen            31.926272    11.109461   \n",
       "2                     Bisque            33.000915    11.330278   \n",
       "3                SaddleBrown            34.305557    13.717514   \n",
       "4           MediumAquaMarine            33.330673    12.795189   \n",
       "\n",
       "   Time on Website  Length of Membership  Yearly Amount Spent  \n",
       "0        39.577668              4.082621           587.951054  \n",
       "1        37.268959              2.664034           392.204933  \n",
       "2        37.110597              4.104543           487.547505  \n",
       "3        36.721283              3.120179           581.852344  \n",
       "4        37.536653              4.446308           599.406092  "
      ]
     },
     "execution_count": 37,
     "metadata": {},
     "output_type": "execute_result"
    }
   ],
   "source": [
    "customer_shop.head()"
   ]
  },
  {
   "cell_type": "code",
   "execution_count": 38,
   "id": "dc6d26e3",
   "metadata": {},
   "outputs": [
    {
     "data": {
      "text/html": [
       "<div>\n",
       "<style scoped>\n",
       "    .dataframe tbody tr th:only-of-type {\n",
       "        vertical-align: middle;\n",
       "    }\n",
       "\n",
       "    .dataframe tbody tr th {\n",
       "        vertical-align: top;\n",
       "    }\n",
       "\n",
       "    .dataframe thead th {\n",
       "        text-align: right;\n",
       "    }\n",
       "</style>\n",
       "<table border=\"1\" class=\"dataframe\">\n",
       "  <thead>\n",
       "    <tr style=\"text-align: right;\">\n",
       "      <th></th>\n",
       "      <th>Customer info-color Avatar</th>\n",
       "      <th>Avg. Session Length</th>\n",
       "      <th>Time on App</th>\n",
       "      <th>Time on Website</th>\n",
       "      <th>Length of Membership</th>\n",
       "      <th>Yearly Amount Spent</th>\n",
       "    </tr>\n",
       "  </thead>\n",
       "  <tbody>\n",
       "    <tr>\n",
       "      <th>495</th>\n",
       "      <td>Tan</td>\n",
       "      <td>33.237660</td>\n",
       "      <td>13.566160</td>\n",
       "      <td>36.417985</td>\n",
       "      <td>3.746573</td>\n",
       "      <td>573.847438</td>\n",
       "    </tr>\n",
       "    <tr>\n",
       "      <th>496</th>\n",
       "      <td>PaleVioletRed</td>\n",
       "      <td>34.702529</td>\n",
       "      <td>11.695736</td>\n",
       "      <td>37.190268</td>\n",
       "      <td>3.576526</td>\n",
       "      <td>529.049004</td>\n",
       "    </tr>\n",
       "    <tr>\n",
       "      <th>497</th>\n",
       "      <td>Cornsilk</td>\n",
       "      <td>32.646777</td>\n",
       "      <td>11.499409</td>\n",
       "      <td>38.332576</td>\n",
       "      <td>4.958264</td>\n",
       "      <td>551.620146</td>\n",
       "    </tr>\n",
       "    <tr>\n",
       "      <th>498</th>\n",
       "      <td>Teal</td>\n",
       "      <td>33.322501</td>\n",
       "      <td>12.391423</td>\n",
       "      <td>36.840086</td>\n",
       "      <td>2.336485</td>\n",
       "      <td>456.469510</td>\n",
       "    </tr>\n",
       "    <tr>\n",
       "      <th>499</th>\n",
       "      <td>DarkMagenta</td>\n",
       "      <td>33.715981</td>\n",
       "      <td>12.418808</td>\n",
       "      <td>35.771016</td>\n",
       "      <td>2.735160</td>\n",
       "      <td>497.778642</td>\n",
       "    </tr>\n",
       "  </tbody>\n",
       "</table>\n",
       "</div>"
      ],
      "text/plain": [
       "    Customer info-color Avatar  Avg. Session Length  Time on App  \\\n",
       "495                        Tan            33.237660    13.566160   \n",
       "496              PaleVioletRed            34.702529    11.695736   \n",
       "497                   Cornsilk            32.646777    11.499409   \n",
       "498                       Teal            33.322501    12.391423   \n",
       "499                DarkMagenta            33.715981    12.418808   \n",
       "\n",
       "     Time on Website  Length of Membership  Yearly Amount Spent  \n",
       "495        36.417985              3.746573           573.847438  \n",
       "496        37.190268              3.576526           529.049004  \n",
       "497        38.332576              4.958264           551.620146  \n",
       "498        36.840086              2.336485           456.469510  \n",
       "499        35.771016              2.735160           497.778642  "
      ]
     },
     "execution_count": 38,
     "metadata": {},
     "output_type": "execute_result"
    }
   ],
   "source": [
    "customer_shop.tail()"
   ]
  },
  {
   "cell_type": "code",
   "execution_count": 39,
   "id": "cb1a3038",
   "metadata": {},
   "outputs": [
    {
     "data": {
      "text/html": [
       "<div>\n",
       "<style scoped>\n",
       "    .dataframe tbody tr th:only-of-type {\n",
       "        vertical-align: middle;\n",
       "    }\n",
       "\n",
       "    .dataframe tbody tr th {\n",
       "        vertical-align: top;\n",
       "    }\n",
       "\n",
       "    .dataframe thead th {\n",
       "        text-align: right;\n",
       "    }\n",
       "</style>\n",
       "<table border=\"1\" class=\"dataframe\">\n",
       "  <thead>\n",
       "    <tr style=\"text-align: right;\">\n",
       "      <th></th>\n",
       "      <th>Avg. Session Length</th>\n",
       "      <th>Time on App</th>\n",
       "      <th>Time on Website</th>\n",
       "      <th>Length of Membership</th>\n",
       "      <th>Yearly Amount Spent</th>\n",
       "    </tr>\n",
       "  </thead>\n",
       "  <tbody>\n",
       "    <tr>\n",
       "      <th>count</th>\n",
       "      <td>500.000000</td>\n",
       "      <td>500.000000</td>\n",
       "      <td>500.000000</td>\n",
       "      <td>500.000000</td>\n",
       "      <td>500.000000</td>\n",
       "    </tr>\n",
       "    <tr>\n",
       "      <th>mean</th>\n",
       "      <td>33.053194</td>\n",
       "      <td>12.052488</td>\n",
       "      <td>37.060445</td>\n",
       "      <td>3.533462</td>\n",
       "      <td>499.314038</td>\n",
       "    </tr>\n",
       "    <tr>\n",
       "      <th>std</th>\n",
       "      <td>0.992563</td>\n",
       "      <td>0.994216</td>\n",
       "      <td>1.010489</td>\n",
       "      <td>0.999278</td>\n",
       "      <td>79.314782</td>\n",
       "    </tr>\n",
       "    <tr>\n",
       "      <th>min</th>\n",
       "      <td>29.532429</td>\n",
       "      <td>8.508152</td>\n",
       "      <td>33.913847</td>\n",
       "      <td>0.269901</td>\n",
       "      <td>256.670582</td>\n",
       "    </tr>\n",
       "    <tr>\n",
       "      <th>25%</th>\n",
       "      <td>32.341822</td>\n",
       "      <td>11.388153</td>\n",
       "      <td>36.349257</td>\n",
       "      <td>2.930450</td>\n",
       "      <td>445.038277</td>\n",
       "    </tr>\n",
       "    <tr>\n",
       "      <th>50%</th>\n",
       "      <td>33.082008</td>\n",
       "      <td>11.983231</td>\n",
       "      <td>37.069367</td>\n",
       "      <td>3.533975</td>\n",
       "      <td>498.887875</td>\n",
       "    </tr>\n",
       "    <tr>\n",
       "      <th>75%</th>\n",
       "      <td>33.711985</td>\n",
       "      <td>12.753850</td>\n",
       "      <td>37.716432</td>\n",
       "      <td>4.126502</td>\n",
       "      <td>549.313828</td>\n",
       "    </tr>\n",
       "    <tr>\n",
       "      <th>max</th>\n",
       "      <td>36.139662</td>\n",
       "      <td>15.126994</td>\n",
       "      <td>40.005182</td>\n",
       "      <td>6.922689</td>\n",
       "      <td>765.518462</td>\n",
       "    </tr>\n",
       "  </tbody>\n",
       "</table>\n",
       "</div>"
      ],
      "text/plain": [
       "       Avg. Session Length  Time on App  Time on Website  \\\n",
       "count           500.000000   500.000000       500.000000   \n",
       "mean             33.053194    12.052488        37.060445   \n",
       "std               0.992563     0.994216         1.010489   \n",
       "min              29.532429     8.508152        33.913847   \n",
       "25%              32.341822    11.388153        36.349257   \n",
       "50%              33.082008    11.983231        37.069367   \n",
       "75%              33.711985    12.753850        37.716432   \n",
       "max              36.139662    15.126994        40.005182   \n",
       "\n",
       "       Length of Membership  Yearly Amount Spent  \n",
       "count            500.000000           500.000000  \n",
       "mean               3.533462           499.314038  \n",
       "std                0.999278            79.314782  \n",
       "min                0.269901           256.670582  \n",
       "25%                2.930450           445.038277  \n",
       "50%                3.533975           498.887875  \n",
       "75%                4.126502           549.313828  \n",
       "max                6.922689           765.518462  "
      ]
     },
     "execution_count": 39,
     "metadata": {},
     "output_type": "execute_result"
    }
   ],
   "source": [
    "customer_shop.describe()"
   ]
  },
  {
   "cell_type": "markdown",
   "id": "d72d6bb4",
   "metadata": {},
   "source": [
    "***\n",
    "### Description \n",
    "From the descriptive statistics obtained, it can be seen that users spend more time on the website with a mean of 37 in comparison to a mean of 12 in a mobile application. The hours spent on the website are also longer for the minimum and maximum time with 33 hours minimum on a website while a moblie site has 8 hours as their minimum."
   ]
  },
  {
   "cell_type": "markdown",
   "id": "14218d6a",
   "metadata": {},
   "source": [
    "***\n",
    "### Visualisation - Graphing"
   ]
  },
  {
   "cell_type": "code",
   "execution_count": 40,
   "id": "131e3426",
   "metadata": {},
   "outputs": [
    {
     "data": {
      "image/png": "[encoded data removed]",
      "text/plain": [
       "<Figure size 432x288 with 1 Axes>"
      ]
     },
     "metadata": {
      "needs_background": "light"
     },
     "output_type": "display_data"
    }
   ],
   "source": [
    "plt.scatter(x = customer_shop['Time on Website'], y = customer_shop['Yearly Amount Spent'])\n",
    "plt.xlabel(\"Time on Website\")\n",
    "plt.ylabel(\"Yearly amount spent\")\n",
    "plt.show()"
   ]
  },
  {
   "cell_type": "markdown",
   "id": "382f154d",
   "metadata": {},
   "source": [
    "### Analysis\n",
    "Judging from the dispersed scattering, it can be predicted that there is little to no correlation between the time spent on the website and the yearly amount spend. This does not make sense as there should be some correlation between the two as it is shown that the majority of time on the site is spent on a website instead of a moblie application."
   ]
  },
  {
   "cell_type": "code",
   "execution_count": 41,
   "id": "b1217aa7",
   "metadata": {},
   "outputs": [
    {
     "data": {
      "image/png": "[encoded data removed]",
      "text/plain": [
       "<Figure size 432x288 with 1 Axes>"
      ]
     },
     "metadata": {
      "needs_background": "light"
     },
     "output_type": "display_data"
    }
   ],
   "source": [
    "plt.scatter(x = customer_shop['Time on App'], y = customer_shop['Yearly Amount Spent'])\n",
    "plt.xlabel(\"Time on App\")\n",
    "plt.ylabel(\"Yearly Amount Spent\")\n",
    "plt.show()"
   ]
  },
  {
   "cell_type": "markdown",
   "id": "b856af37",
   "metadata": {},
   "source": [
    "### Analysis \n",
    "From the scatter plot, in comparison to the 'time spent on website' we can see a positive correlation between time spent on the app and the yearly amount spent. "
   ]
  },
  {
   "cell_type": "markdown",
   "id": "f3c981c6",
   "metadata": {},
   "source": [
    "***\n",
    "## Supervised Learning\n",
    "When using supervised machine learning, an aspect is the splitting of data into training and testing. The training data is used to \"teach\" the machine to recognise a general trend and attempt to predict the next outcome. The degree of prediction varies with how precise you want the machine to learn the trends. This can lead to a problem known as overfitting which leads to inaccurate predictions as the degree of prediction is too precise and has no room for errors or flexibility. The testing section of the data is where the machine makes predictions about known data and its outputs. The predictions can be cross checked with the actual data to see if the machine has been trained well to predict as the actual data serves as a guideline for a proper prediction."
   ]
  },
  {
   "cell_type": "code",
   "execution_count": 42,
   "id": "1b9975e5",
   "metadata": {},
   "outputs": [
    {
     "data": {
      "text/html": [
       "<div>\n",
       "<style scoped>\n",
       "    .dataframe tbody tr th:only-of-type {\n",
       "        vertical-align: middle;\n",
       "    }\n",
       "\n",
       "    .dataframe tbody tr th {\n",
       "        vertical-align: top;\n",
       "    }\n",
       "\n",
       "    .dataframe thead th {\n",
       "        text-align: right;\n",
       "    }\n",
       "</style>\n",
       "<table border=\"1\" class=\"dataframe\">\n",
       "  <thead>\n",
       "    <tr style=\"text-align: right;\">\n",
       "      <th></th>\n",
       "      <th>Customer info-color Avatar</th>\n",
       "      <th>Avg. Session Length</th>\n",
       "      <th>Time on App</th>\n",
       "      <th>Time on Website</th>\n",
       "      <th>Length of Membership</th>\n",
       "      <th>Yearly Amount Spent</th>\n",
       "    </tr>\n",
       "  </thead>\n",
       "  <tbody>\n",
       "    <tr>\n",
       "      <th>0</th>\n",
       "      <td>Violet</td>\n",
       "      <td>34.497268</td>\n",
       "      <td>12.655651</td>\n",
       "      <td>39.577668</td>\n",
       "      <td>4.082621</td>\n",
       "      <td>587.951054</td>\n",
       "    </tr>\n",
       "    <tr>\n",
       "      <th>1</th>\n",
       "      <td>DarkGreen</td>\n",
       "      <td>31.926272</td>\n",
       "      <td>11.109461</td>\n",
       "      <td>37.268959</td>\n",
       "      <td>2.664034</td>\n",
       "      <td>392.204933</td>\n",
       "    </tr>\n",
       "    <tr>\n",
       "      <th>2</th>\n",
       "      <td>Bisque</td>\n",
       "      <td>33.000915</td>\n",
       "      <td>11.330278</td>\n",
       "      <td>37.110597</td>\n",
       "      <td>4.104543</td>\n",
       "      <td>487.547505</td>\n",
       "    </tr>\n",
       "    <tr>\n",
       "      <th>3</th>\n",
       "      <td>SaddleBrown</td>\n",
       "      <td>34.305557</td>\n",
       "      <td>13.717514</td>\n",
       "      <td>36.721283</td>\n",
       "      <td>3.120179</td>\n",
       "      <td>581.852344</td>\n",
       "    </tr>\n",
       "    <tr>\n",
       "      <th>4</th>\n",
       "      <td>MediumAquaMarine</td>\n",
       "      <td>33.330673</td>\n",
       "      <td>12.795189</td>\n",
       "      <td>37.536653</td>\n",
       "      <td>4.446308</td>\n",
       "      <td>599.406092</td>\n",
       "    </tr>\n",
       "    <tr>\n",
       "      <th>...</th>\n",
       "      <td>...</td>\n",
       "      <td>...</td>\n",
       "      <td>...</td>\n",
       "      <td>...</td>\n",
       "      <td>...</td>\n",
       "      <td>...</td>\n",
       "    </tr>\n",
       "    <tr>\n",
       "      <th>495</th>\n",
       "      <td>Tan</td>\n",
       "      <td>33.237660</td>\n",
       "      <td>13.566160</td>\n",
       "      <td>36.417985</td>\n",
       "      <td>3.746573</td>\n",
       "      <td>573.847438</td>\n",
       "    </tr>\n",
       "    <tr>\n",
       "      <th>496</th>\n",
       "      <td>PaleVioletRed</td>\n",
       "      <td>34.702529</td>\n",
       "      <td>11.695736</td>\n",
       "      <td>37.190268</td>\n",
       "      <td>3.576526</td>\n",
       "      <td>529.049004</td>\n",
       "    </tr>\n",
       "    <tr>\n",
       "      <th>497</th>\n",
       "      <td>Cornsilk</td>\n",
       "      <td>32.646777</td>\n",
       "      <td>11.499409</td>\n",
       "      <td>38.332576</td>\n",
       "      <td>4.958264</td>\n",
       "      <td>551.620146</td>\n",
       "    </tr>\n",
       "    <tr>\n",
       "      <th>498</th>\n",
       "      <td>Teal</td>\n",
       "      <td>33.322501</td>\n",
       "      <td>12.391423</td>\n",
       "      <td>36.840086</td>\n",
       "      <td>2.336485</td>\n",
       "      <td>456.469510</td>\n",
       "    </tr>\n",
       "    <tr>\n",
       "      <th>499</th>\n",
       "      <td>DarkMagenta</td>\n",
       "      <td>33.715981</td>\n",
       "      <td>12.418808</td>\n",
       "      <td>35.771016</td>\n",
       "      <td>2.735160</td>\n",
       "      <td>497.778642</td>\n",
       "    </tr>\n",
       "  </tbody>\n",
       "</table>\n",
       "<p>500 rows × 6 columns</p>\n",
       "</div>"
      ],
      "text/plain": [
       "    Customer info-color Avatar  Avg. Session Length  Time on App  \\\n",
       "0                       Violet            34.497268    12.655651   \n",
       "1                    DarkGreen            31.926272    11.109461   \n",
       "2                       Bisque            33.000915    11.330278   \n",
       "3                  SaddleBrown            34.305557    13.717514   \n",
       "4             MediumAquaMarine            33.330673    12.795189   \n",
       "..                         ...                  ...          ...   \n",
       "495                        Tan            33.237660    13.566160   \n",
       "496              PaleVioletRed            34.702529    11.695736   \n",
       "497                   Cornsilk            32.646777    11.499409   \n",
       "498                       Teal            33.322501    12.391423   \n",
       "499                DarkMagenta            33.715981    12.418808   \n",
       "\n",
       "     Time on Website  Length of Membership  Yearly Amount Spent  \n",
       "0          39.577668              4.082621           587.951054  \n",
       "1          37.268959              2.664034           392.204933  \n",
       "2          37.110597              4.104543           487.547505  \n",
       "3          36.721283              3.120179           581.852344  \n",
       "4          37.536653              4.446308           599.406092  \n",
       "..               ...                   ...                  ...  \n",
       "495        36.417985              3.746573           573.847438  \n",
       "496        37.190268              3.576526           529.049004  \n",
       "497        38.332576              4.958264           551.620146  \n",
       "498        36.840086              2.336485           456.469510  \n",
       "499        35.771016              2.735160           497.778642  \n",
       "\n",
       "[500 rows x 6 columns]"
      ]
     },
     "execution_count": 42,
     "metadata": {},
     "output_type": "execute_result"
    }
   ],
   "source": [
    "customer_shop"
   ]
  },
  {
   "cell_type": "markdown",
   "id": "ec7fb71f",
   "metadata": {},
   "source": [
    "### Labels and features\n",
    "#### Label:\n",
    "The label would be the yearly amount spent\n",
    "\n",
    "#### Features:\n",
    "- Avg.Session Length\n",
    "- Time on App(in moblie regression)\n",
    "- Time on Website(in website regression)\n",
    "- Length of membership "
   ]
  },
  {
   "cell_type": "code",
   "execution_count": 43,
   "id": "f99f87e8",
   "metadata": {},
   "outputs": [],
   "source": [
    "X_time_on_mobile = customer_shop.iloc[:,[2]]\n",
    "X_time_on_website = customer_shop.iloc[:,[3]]\n",
    "Y_yearly_gain = customer_shop.iloc[:,5]\n",
    "\n"
   ]
  },
  {
   "cell_type": "code",
   "execution_count": 44,
   "id": "9578b9bc",
   "metadata": {},
   "outputs": [
    {
     "data": {
      "text/plain": [
       "(   Time on App\n",
       " 0    12.655651\n",
       " 1    11.109461\n",
       " 2    11.330278\n",
       " 3    13.717514\n",
       " 4    12.795189,\n",
       "    Time on Website\n",
       " 0        39.577668\n",
       " 1        37.268959\n",
       " 2        37.110597\n",
       " 3        36.721283\n",
       " 4        37.536653,\n",
       " 0    587.951054\n",
       " 1    392.204933\n",
       " 2    487.547505\n",
       " 3    581.852344\n",
       " 4    599.406092\n",
       " Name: Yearly Amount Spent, dtype: float64)"
      ]
     },
     "execution_count": 44,
     "metadata": {},
     "output_type": "execute_result"
    }
   ],
   "source": [
    "X_time_on_mobile.head(),X_time_on_website.head(),Y_yearly_gain.head()"
   ]
  },
  {
   "cell_type": "markdown",
   "id": "db04ad7a",
   "metadata": {},
   "source": [
    "## Training moblie data "
   ]
  },
  {
   "cell_type": "code",
   "execution_count": 45,
   "id": "d0a68764",
   "metadata": {},
   "outputs": [],
   "source": [
    "X_train_mob, X_test_mob, Y_train_mob_yearly_gain,Y_test_mob_yearly_gain = train_test_split(\n",
    "    X_time_on_mobile,Y_yearly_gain,\n",
    "    test_size = 0.3, #sets testing size to 30% as per specifications \n",
    "    random_state = 0\n",
    ")"
   ]
  },
  {
   "cell_type": "code",
   "execution_count": 46,
   "id": "c71719b7",
   "metadata": {},
   "outputs": [
    {
     "data": {
      "text/plain": [
       "(     Time on App\n",
       " 141    12.418962\n",
       " 383    13.130022\n",
       " 135    12.703688\n",
       " 493    12.625433\n",
       " 122    11.113330,\n",
       "      Time on App\n",
       " 90     12.530357\n",
       " 254    12.326291\n",
       " 283    11.466984\n",
       " 445    11.732991\n",
       " 461    11.371767,\n",
       " 141    472.992247\n",
       " 383    583.977802\n",
       " 135    482.353570\n",
       " 493    627.603319\n",
       " 122    514.239521\n",
       " Name: Yearly Amount Spent, dtype: float64,\n",
       " 90     449.070319\n",
       " 254    482.602467\n",
       " 283    374.269675\n",
       " 445    513.153112\n",
       " 461    502.771075\n",
       " Name: Yearly Amount Spent, dtype: float64)"
      ]
     },
     "execution_count": 46,
     "metadata": {},
     "output_type": "execute_result"
    }
   ],
   "source": [
    "X_train_mob.head(),X_test_mob.head(),Y_train_mob_yearly_gain.head(),Y_test_mob_yearly_gain.head()"
   ]
  },
  {
   "cell_type": "markdown",
   "id": "6db18a60",
   "metadata": {},
   "source": [
    "## Training Website Data"
   ]
  },
  {
   "cell_type": "code",
   "execution_count": 47,
   "id": "46df7e42",
   "metadata": {},
   "outputs": [],
   "source": [
    "X_train_web, X_test_web, Y_train_web_yearly,Y_test_web_yearly = train_test_split(\n",
    "    X_time_on_website,Y_yearly_gain,\n",
    "    test_size = 0.3,\n",
    "    random_state = 0\n",
    ")"
   ]
  },
  {
   "cell_type": "code",
   "execution_count": 48,
   "id": "7d480ad9",
   "metadata": {},
   "outputs": [
    {
     "data": {
      "text/plain": [
       "(     Time on Website\n",
       " 141        35.977652\n",
       " 383        35.429334\n",
       " 135        36.100914\n",
       " 493        35.539142\n",
       " 122        37.387946,\n",
       "      Time on Website\n",
       " 90         37.875219\n",
       " 254        36.673878\n",
       " 283        35.675728\n",
       " 445        35.633954\n",
       " 461        35.261498,\n",
       " 141    472.992247\n",
       " 383    583.977802\n",
       " 135    482.353570\n",
       " 493    627.603319\n",
       " 122    514.239521\n",
       " Name: Yearly Amount Spent, dtype: float64,\n",
       " 90     449.070319\n",
       " 254    482.602467\n",
       " 283    374.269675\n",
       " 445    513.153112\n",
       " 461    502.771075\n",
       " Name: Yearly Amount Spent, dtype: float64)"
      ]
     },
     "execution_count": 48,
     "metadata": {},
     "output_type": "execute_result"
    }
   ],
   "source": [
    "X_train_web.head(),X_test_web.head(),Y_train_web_yearly.head(),Y_test_web_yearly.head()"
   ]
  },
  {
   "cell_type": "markdown",
   "id": "59e25bc2",
   "metadata": {},
   "source": [
    "### Normalising the data \n",
    "The two data in the X_train and X_test, need to be normalised. This is to make sure that there is no large difference in the values that could skew the data or create a lot of processing due to the large range of values"
   ]
  },
  {
   "cell_type": "code",
   "execution_count": 49,
   "id": "ec2e5381",
   "metadata": {},
   "outputs": [],
   "source": [
    "### Normalising data\n",
    "sc = StandardScaler()\n",
    "X_train_mob = sc.fit_transform(X_train_mob)\n",
    "X_test_mob = sc.transform(X_test_mob)\n",
    "X_train_web = sc.fit_transform(X_train_web)\n",
    "X_test_web = sc.transform(X_test_web)"
   ]
  },
  {
   "cell_type": "markdown",
   "id": "21a84101",
   "metadata": {},
   "source": [
    "## Linear Regression \n",
    "Now that we have all our testing and training data ready, we can now train a linear regression model to test whether a mobile or website would be better in yearly income "
   ]
  },
  {
   "cell_type": "markdown",
   "id": "1986e903",
   "metadata": {},
   "source": [
    "## Importing the necessary libraries"
   ]
  },
  {
   "cell_type": "code",
   "execution_count": 50,
   "id": "e984c6e6",
   "metadata": {},
   "outputs": [],
   "source": [
    "#importing files used in linear regression\n",
    "#directions and syntax given by: https://scikit-learn.org/stable/auto_examples/linear_model/plot_ols.html\n",
    "from sklearn.linear_model import LinearRegression\n",
    "from sklearn.metrics import mean_squared_error,r2_score #r2 can also use score()"
   ]
  },
  {
   "cell_type": "markdown",
   "id": "123d3d74",
   "metadata": {},
   "source": [
    "## Linear regression for mobile application "
   ]
  },
  {
   "cell_type": "code",
   "execution_count": 51,
   "id": "eaf7c7ee",
   "metadata": {},
   "outputs": [],
   "source": [
    "regression_line = LinearRegression()\n",
    "\n",
    "#training the model \n",
    "regression_line.fit(X_train_mob,Y_train_mob_yearly_gain)\n",
    "\n",
    "#predictions \n",
    "mob_prediction_y = regression_line.predict(X_test_mob)\n",
    "\n"
   ]
  },
  {
   "cell_type": "markdown",
   "id": "fe488afc",
   "metadata": {},
   "source": [
    "### Visualising the data "
   ]
  },
  {
   "cell_type": "code",
   "execution_count": 52,
   "id": "fe7569ab",
   "metadata": {},
   "outputs": [
    {
     "data": {
      "text/plain": [
       "Text(0.5, 1.0, 'Regression of mobile data [figure 1]')"
      ]
     },
     "execution_count": 52,
     "metadata": {},
     "output_type": "execute_result"
    },
    {
     "data": {
      "image/png": "[encoded data removed]",
      "text/plain": [
       "<Figure size 432x288 with 1 Axes>"
      ]
     },
     "metadata": {
      "needs_background": "light"
     },
     "output_type": "display_data"
    }
   ],
   "source": [
    "plt.scatter(X_test_mob,Y_test_mob_yearly_gain)\n",
    "plt.plot(X_test_mob,mob_prediction_y)\n",
    "plt.title(\"Regression of mobile data [figure 1]\")"
   ]
  },
  {
   "cell_type": "markdown",
   "id": "5aa9a52f",
   "metadata": {},
   "source": [
    "### Prediction and analysis\n",
    "It can be shown from the linear regression that there is an upwards trend in mobile usage and yearly gain. This prediction can be reinforced by the coefficient of determination of -2 which means that a large percentage of values can be explained by regression line"
   ]
  },
  {
   "cell_type": "markdown",
   "id": "982ea8ee",
   "metadata": {},
   "source": [
    "### Metrics of accuracy of the Linear regression (R-squared and MSE)"
   ]
  },
  {
   "cell_type": "code",
   "execution_count": 53,
   "id": "99309d50",
   "metadata": {},
   "outputs": [
    {
     "name": "stdout",
     "output_type": "stream",
     "text": [
      "The mean squared error for this linear Regression is 4643.608999783545\n"
     ]
    }
   ],
   "source": [
    "print(\"The mean squared error for this linear Regression is \" + str(mean_squared_error(mob_prediction_y,Y_test_mob_yearly_gain)))"
   ]
  },
  {
   "cell_type": "code",
   "execution_count": 54,
   "id": "8ee91357",
   "metadata": {},
   "outputs": [
    {
     "name": "stdout",
     "output_type": "stream",
     "text": [
      "The Coefficient of determination for this linear regression is -2.084009798843292\n"
     ]
    }
   ],
   "source": [
    "print(\"The Coefficient of determination for this linear regression is \" + str(r2_score(mob_prediction_y,Y_test_mob_yearly_gain)))"
   ]
  },
  {
   "cell_type": "markdown",
   "id": "74549a00",
   "metadata": {},
   "source": [
    "## Linear regression for website"
   ]
  },
  {
   "cell_type": "code",
   "execution_count": 55,
   "id": "ea107161",
   "metadata": {},
   "outputs": [],
   "source": [
    "#training the model \n",
    "regression_line.fit(X_train_web,Y_train_web_yearly)\n",
    "#predictions \n",
    "web_prediction_y = regression_line.predict(X_test_web)"
   ]
  },
  {
   "cell_type": "code",
   "execution_count": 56,
   "id": "e627d630",
   "metadata": {},
   "outputs": [
    {
     "data": {
      "text/plain": [
       "Text(0.5, 1.0, 'Regression of web data [figure 2]')"
      ]
     },
     "execution_count": 56,
     "metadata": {},
     "output_type": "execute_result"
    },
    {
     "data": {
      "image/png": "[encoded data removed]",
      "text/plain": [
       "<Figure size 432x288 with 1 Axes>"
      ]
     },
     "metadata": {
      "needs_background": "light"
     },
     "output_type": "display_data"
    }
   ],
   "source": [
    "plt.scatter(X_test_web,Y_test_web_yearly)\n",
    "plt.plot(X_test_web,web_prediction_y)\n",
    "plt.title(\"Regression of web data [figure 2]\")\n"
   ]
  },
  {
   "cell_type": "markdown",
   "id": "4a0feda2",
   "metadata": {},
   "source": [
    "### Prediction and analysis\n",
    "It is very hard to predict the final outcome of this data as it is very scattered. This is reinforced by the calculation of the coefficient of determination of -2725 which shows a <strong>very</strong> strong lack of explanation from the regression line making this very hard to predict. "
   ]
  },
  {
   "cell_type": "markdown",
   "id": "0b65f7de",
   "metadata": {},
   "source": [
    "### Metrics of accuracy of the Linear regression (R-squared and MSE)"
   ]
  },
  {
   "cell_type": "code",
   "execution_count": 57,
   "id": "c296c416",
   "metadata": {},
   "outputs": [
    {
     "name": "stdout",
     "output_type": "stream",
     "text": [
      "The mean squared error for this linear Regression is 6344.770178520485\n"
     ]
    }
   ],
   "source": [
    "print(\"The mean squared error for this linear Regression is \" + str(mean_squared_error(web_prediction_y,Y_test_web_yearly)))"
   ]
  },
  {
   "cell_type": "code",
   "execution_count": 58,
   "id": "117e0cc7",
   "metadata": {},
   "outputs": [
    {
     "name": "stdout",
     "output_type": "stream",
     "text": [
      "The Coefficient of determination for this linear regression is -2725.3477964277913\n"
     ]
    }
   ],
   "source": [
    "print(\"The Coefficient of determination for this linear regression is \" + str(r2_score(web_prediction_y,Y_test_web_yearly)))"
   ]
  },
  {
   "cell_type": "markdown",
   "id": "a78619cf",
   "metadata": {},
   "source": [
    "***\n",
    "## Conclusion \n"
   ]
  },
  {
   "cell_type": "markdown",
   "id": "c74dbf3f",
   "metadata": {},
   "source": [
    "In conclusion, the moblie application is a more important variable when increasing the yearly_amount_spent. This can be seen in <strong>[figure 1]</strong> where there is a strong positive correlation as seen in the increase of the regression line. However, the data given for the web developmenet did not make much sense as seen in <strong>[figure 2]</strong> as the coefficient of determination could barely explain the spread of values. Therefore a sound conclusion of whether the company should be focusing on only the moblie application is still difficult to confirm as the majority of the time spent on the Ecommerce platform is through a website, however evidence of a higher spending is evident through the regression of the moblie application."
   ]
  }
 ],
 "metadata": {
  "interpreter": {
   "hash": "38efaa045fcc2680aaeae51f7ac851acc4f32df019d3afeeab3c12114d76b9ae"
  },
  "kernelspec": {
   "display_name": "Python 3.9.7 ('base')",
   "language": "python",
   "name": "python3"
  },
  "language_info": {
   "codemirror_mode": {
    "name": "ipython",
    "version": 3
   },
   "file_extension": ".py",
   "mimetype": "text/x-python",
   "name": "python",
   "nbconvert_exporter": "python",
   "pygments_lexer": "ipython3",
   "version": "3.8.8"
  }
 },
 "nbformat": 4,
 "nbformat_minor": 5
}
